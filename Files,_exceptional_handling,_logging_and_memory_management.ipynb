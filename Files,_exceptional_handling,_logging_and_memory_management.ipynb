{
  "nbformat": 4,
  "nbformat_minor": 0,
  "metadata": {
    "colab": {
      "provenance": []
    },
    "kernelspec": {
      "name": "python3",
      "display_name": "Python 3"
    },
    "language_info": {
      "name": "python"
    }
  },
  "cells": [
    {
      "cell_type": "markdown",
      "source": [
        "## Files, exceptional handling, logging and memory management Questions and Answers\n"
      ],
      "metadata": {
        "id": "j-g61HEYNO0n"
      }
    },
    {
      "cell_type": "markdown",
      "source": [
        "**Question-1)** **What is the difference between interpreted and compiled languages?**\n",
        "\n",
        "**Answer-1)** The fundamental difference between interpreted and compiled languages lies in how they are executed by a computer. The distinction centers on the presence and role of a compiler or an interpreter.\n",
        "\n",
        "**Compiled Languages**\n",
        "\n",
        "In a compiled language, the entire source code is first translated into machine-readable code (often called an executable file) by a program called a compiler. This compilation process happens before the program is run. Once compiled, the program can be executed directly by the computer's central processing unit (CPU).\n",
        "\n",
        "Process: Source Code → Compiler → Machine Code (Executable) → Run.\n",
        "\n",
        "**Key Characteristics:**\n",
        "\n",
        "a) Speed: Compiled programs generally run much faster because the translation step is completed beforehand, and the machine code is highly optimized.\n",
        "\n",
        "b) Error Detection: All syntax errors and other issues are found during the compilation stage, so you must fix them before the program can even run.\n",
        "\n",
        "c) Portability: The executable file is specific to the operating system and hardware it was compiled for. To run the same program on a different system, it must be recompiled.\n",
        "\n",
        "Examples: C, C++, Rust.\n",
        "\n",
        "\n",
        "**Interpreted Languages**\n",
        "\n",
        "With an interpreted language, a program called an interpreter reads and executes the source code line by line, on the fly. The translation to machine code happens during program execution, not as a separate, pre-run step.\n",
        "\n",
        "Process: Source Code → Interpreter (reads, translates, and executes line-by-line) → Run.\n",
        "\n",
        "**Key Characteristics:**\n",
        "\n",
        "a) Flexibility: Interpreted programs are often more flexible and easier to debug, as you can test and modify code as you go without a full re-compilation cycle.\n",
        "\n",
        "b) Speed: They are typically slower than compiled languages because each line of code must be translated every time the program is executed.\n",
        "\n",
        "c) Portability: Interpreted languages are more platform-independent. As long as a system has the correct interpreter installed, the same source code can be run on it.\n",
        "\n",
        "Examples: Python, JavaScript, Ruby."
      ],
      "metadata": {
        "id": "EPUHAg62NTmE"
      }
    },
    {
      "cell_type": "markdown",
      "source": [
        "**Question-2)** **What is exception handling in Python?**\n",
        "\n",
        "**Answer-2)** Exception handling in Python is a mechanism that allows you to manage and respond to errors that occur during the execution of a program. These errors, known as exceptions, disrupt the normal flow of the program. Exception handling prevents a program from crashing and allows you to provide a graceful and user-friendly response.\n",
        "\n",
        "**How it Works**\n",
        "\n",
        "Python uses the try, except, and finally keywords to handle exceptions.\n",
        "\n",
        "try block: You place the code that might raise an exception inside this block.\n",
        "\n",
        "except block: If an exception occurs within the try block, the program's execution jumps to the except block. Here, you can specify the type of exception you want to catch and define the code to handle it. You can have multiple except blocks to handle different types of exceptions.\n",
        "\n",
        "\n",
        "finally block: This block's code will always execute, regardless of whether an exception occurred or was handled. It's often used for cleanup actions, like closing a file or releasing a resource.\n",
        "\n",
        "Example\n",
        "Let's consider a simple example where we try to divide a number by zero, which raises a ZeroDivisionError."
      ],
      "metadata": {
        "id": "IDxDcbVUPUgA"
      }
    },
    {
      "cell_type": "code",
      "execution_count": null,
      "metadata": {
        "colab": {
          "base_uri": "https://localhost:8080/"
        },
        "id": "gSVLc4qrM0pu",
        "outputId": "f185d54e-fe46-43d4-ed8c-08ce6da658f4"
      },
      "outputs": [
        {
          "output_type": "stream",
          "name": "stdout",
          "text": [
            "Error: You cannot divide by zero!\n",
            "Execution of the try-except block is complete.\n"
          ]
        }
      ],
      "source": [
        "try:\n",
        "    # This code may raise an exception\n",
        "    numerator = 10\n",
        "    denominator = 0\n",
        "    result = numerator / denominator\n",
        "    print(f\"The result is: {result}\")\n",
        "except ZeroDivisionError:\n",
        "    # This code runs if a ZeroDivisionError occurs\n",
        "    print(\"Error: You cannot divide by zero!\")\n",
        "except Exception as e:\n",
        "    # This is a general catch-all for other exceptions\n",
        "    print(f\"An unexpected error occurred: {e}\")\n",
        "finally:\n",
        "    # This code always runs\n",
        "    print(\"Execution of the try-except block is complete.\")"
      ]
    },
    {
      "cell_type": "markdown",
      "source": [
        "In this example, the try block will fail, triggering the except ZeroDivisionError block, and the finally block will execute at the end."
      ],
      "metadata": {
        "id": "lVJ7HDtfNLV2"
      }
    },
    {
      "cell_type": "markdown",
      "source": [
        "**Question-3) What is the purpose of the finally block in exception handling?**\n",
        "\n",
        "**Answer-3)** The finally block in exception handling is used to define code that must be executed regardless of whether an exception occurs in the try block or not. Its primary purpose is to perform cleanup actions.\n",
        "\n",
        "**Key Purpose:**\n",
        "\n",
        "The main reason for using a finally block is to ensure that essential resources are released. This is crucial for things like:\n",
        "\n",
        "Closing files: If you open a file, you must close it to free up system resources and prevent data corruption.\n",
        "\n",
        "Releasing network connections: Active connections should be closed to avoid resource leaks.\n",
        "\n",
        "Closing database connections: Similar to file and network connections, database connections must be properly closed.\n",
        "\n",
        "By placing the cleanup code in a finally block, you guarantee that it will run even if an exception stops the normal flow of your program. This makes your code more robust and prevents resource leaks.\n",
        "\n",
        "Example\n",
        "Consider this Python example of file handling:"
      ],
      "metadata": {
        "id": "YWjYuZq7NFV4"
      }
    },
    {
      "cell_type": "code",
      "source": [
        "file = None\n",
        "try:\n",
        "    file = open(\"my_file.txt\", \"r\")\n",
        "    # ... process the file ...\n",
        "    print(\"File processed successfully.\")\n",
        "except FileNotFoundError:\n",
        "    print(\"Error: The file does not exist.\")\n",
        "finally:\n",
        "    if file:\n",
        "        file.close()\n",
        "        print(\"File closed.\")"
      ],
      "metadata": {
        "colab": {
          "base_uri": "https://localhost:8080/"
        },
        "id": "DdQ2HuMSRseb",
        "outputId": "f717eecd-3214-461e-f9a1-b659e681dcbe"
      },
      "execution_count": null,
      "outputs": [
        {
          "output_type": "stream",
          "name": "stdout",
          "text": [
            "Error: The file does not exist.\n"
          ]
        }
      ]
    },
    {
      "cell_type": "markdown",
      "source": [
        "In this code, the line file.close() within the finally block will always execute. This ensures the file is closed, regardless of whether the file was opened successfully or a FileNotFoundError occurred."
      ],
      "metadata": {
        "id": "_3AvSZLqSdYi"
      }
    },
    {
      "cell_type": "markdown",
      "source": [
        "**Question-4) What is logging in Python?**\n",
        "\n",
        "**Answer-4)** Logging in Python is a built-in mechanism for recording events that occur during a program's execution. It provides a more organized and powerful way to track information, debug issues, and monitor a program's behavior compared to using simple print() statements.\n",
        "\n",
        "**Key Features of Logging:**\n",
        "\n",
        " a) Log Levels: You can categorize messages by severity using standard levels like DEBUG, INFO, WARNING, ERROR, and CRITICAL. This allows you to filter messages and control how much information is recorded.\n",
        "\n",
        " b) Structured Output: Logging allows you to format output with timestamps, log levels, and the source of the message, making it easier to read and analyze.\n",
        "\n",
        " c) Flexible Output Destinations: You can direct log messages to various destinations, such as a console, a file, a network socket, or an email. This is crucial for production applications where you need to store logs for later review.\n",
        "\n",
        "Essentially, logging helps you create a reliable trail of events for your application, which is vital for both development and production environments."
      ],
      "metadata": {
        "id": "bDDCf24ASp0P"
      }
    },
    {
      "cell_type": "markdown",
      "source": [
        "**Question-5) What is the significance of the __del__ method in Python?**\n",
        "\n",
        "**Answer-5)**  The __del__ method in Python is a special (dunder) method called a destructor.\n",
        "It is automatically invoked when an object is about to be destroyed, i.e., when it is garbage collected.\n",
        "\n",
        "Purpose:\n",
        "To clean up resources used by the object before it is removed from memory.\n",
        "\n",
        "Commonly used for:\n",
        "\n",
        " i)Closing files\n",
        "\n",
        " ii)Releasing network connections\n",
        "\n",
        " iii)Freeing memory or database handles\n",
        "\n",
        "Syntax and Example:"
      ],
      "metadata": {
        "id": "Odld-NciT08U"
      }
    },
    {
      "cell_type": "code",
      "source": [
        "class MyClass:\n",
        "    def __del__(self):\n",
        "        print(\"Object is being destroyed\")\n",
        "\n",
        "obj = MyClass()\n",
        "del obj  # This will call __del__()\n"
      ],
      "metadata": {
        "colab": {
          "base_uri": "https://localhost:8080/"
        },
        "id": "cfNF3yl7VJhS",
        "outputId": "37717978-2c10-4be8-9cf3-72d33d7f37b9"
      },
      "execution_count": null,
      "outputs": [
        {
          "output_type": "stream",
          "name": "stdout",
          "text": [
            "Object is being destroyed\n"
          ]
        }
      ]
    },
    {
      "cell_type": "markdown",
      "source": [
        "It is Important that:\n",
        "The exact time __del__() is called is not guaranteed.\n",
        "\n",
        "It's called only when the object has no more references.\n",
        "\n",
        "Use it carefully, as it can cause issues if the object is part of a circular reference or if the program ends abruptly.\n",
        "\n",
        "It's often better to use context managers (with statement) for resource cleanup.\n",
        "\n",
        "**In short:**\n",
        "\n",
        "The __del__ method is used to define what should happen when an object is deleted, usually to clean up resources. But it should be used with caution due to its unpredictable timing."
      ],
      "metadata": {
        "id": "kFLIfUJaV-aH"
      }
    },
    {
      "cell_type": "markdown",
      "source": [
        "**Question-6) What is the difference between import and from ... import in Python?**\n",
        "\n",
        "**Answer-6)** The core difference between import and from ... import in Python lies in how you access the components of a module.\n",
        "\n",
        "1. import module_name\n",
        "This statement imports the entire module, and you must use the module's name as a prefix to access any of its functions, classes, or variables.\n",
        "\n",
        "Syntax: import module_name\n",
        "\n",
        "Access: module_name.component_name\n",
        "\n",
        "Advantage: It prevents name conflicts. If two different modules have a function with the same name, you can still use both without confusion by specifying the module.\n",
        "\n",
        "Example:"
      ],
      "metadata": {
        "id": "e1KAKQZzWSo2"
      }
    },
    {
      "cell_type": "code",
      "source": [
        "import math\n",
        "print(math.sqrt(16))  # Accessing the sqrt function from the math module"
      ],
      "metadata": {
        "colab": {
          "base_uri": "https://localhost:8080/"
        },
        "id": "xZL3c-fRVKGF",
        "outputId": "08fdd89b-ab54-4b8c-85ba-cd5af23ac9f1"
      },
      "execution_count": null,
      "outputs": [
        {
          "output_type": "stream",
          "name": "stdout",
          "text": [
            "4.0\n"
          ]
        }
      ]
    },
    {
      "cell_type": "markdown",
      "source": [
        "2. from module_name import component_name\n",
        "This statement imports specific components (functions, classes, etc.) directly into your current namespace. This means you can use the component's name directly without the module prefix.\n",
        "\n",
        "Syntax: from module_name import component_name\n",
        "\n",
        "Access: component_name\n",
        "\n",
        "Advantage: It makes your code cleaner and more concise by removing the need for a prefix.\n",
        "\n",
        "Disadvantage: It can lead to name conflicts if you import components with the same name from different modules.\n",
        "\n",
        "Example:"
      ],
      "metadata": {
        "id": "C16NDYQhXM73"
      }
    },
    {
      "cell_type": "code",
      "source": [
        "from math import sqrt\n",
        "print(sqrt(16))  # Accessing the sqrt function directly"
      ],
      "metadata": {
        "colab": {
          "base_uri": "https://localhost:8080/"
        },
        "id": "K1emb-uVW9RB",
        "outputId": "0acb5512-c84f-4212-dd40-fb11aaa7c4e3"
      },
      "execution_count": null,
      "outputs": [
        {
          "output_type": "stream",
          "name": "stdout",
          "text": [
            "4.0\n"
          ]
        }
      ]
    },
    {
      "cell_type": "markdown",
      "source": [
        "A variation of this is from module_name import *, which imports all components from a module into the current namespace. This is generally considered bad practice as it can lead to namespace pollution and make it difficult to determine where a function or variable came from."
      ],
      "metadata": {
        "id": "jPu3DQcYXbAc"
      }
    },
    {
      "cell_type": "markdown",
      "source": [
        "Question-7) **How can you handle multiple exceptions in Python?**\n",
        "\n",
        "**Answer-7)** In Python, you can handle multiple exceptions using multiple except blocks or by grouping exceptions in a single block.\n",
        "\n",
        "1. Using Multiple except Blocks\n",
        "You can write a separate except block for each type of exception.\n",
        "\n",
        "Example:"
      ],
      "metadata": {
        "id": "0T038BS4Xduy"
      }
    },
    {
      "cell_type": "code",
      "source": [
        "try:\n",
        "    num = int(input(\"Enter a number: \"))\n",
        "    result = 10 / num\n",
        "except ValueError:\n",
        "    print(\"Invalid input! Please enter a number.\")\n",
        "except ZeroDivisionError:\n",
        "    print(\"Cannot divide by zero.\")"
      ],
      "metadata": {
        "colab": {
          "base_uri": "https://localhost:8080/"
        },
        "id": "kiPakam8XThU",
        "outputId": "14c91d53-34db-48d0-fe32-f81c75548313"
      },
      "execution_count": null,
      "outputs": [
        {
          "name": "stdout",
          "output_type": "stream",
          "text": [
            "Enter a number: 45\n"
          ]
        }
      ]
    },
    {
      "cell_type": "markdown",
      "source": [
        " 2. Handling Multiple Exceptions in One Block\n",
        "Use a tuple to catch multiple exception types in a single block.\n",
        "\n",
        "Example:"
      ],
      "metadata": {
        "id": "mMCY6SveYeT8"
      }
    },
    {
      "cell_type": "code",
      "source": [
        "try:\n",
        "    num = int(input(\"Enter a number: \"))\n",
        "    result = 10 / num\n",
        "except (ValueError, ZeroDivisionError) as e:\n",
        "    print(\"Error occurred:\", e)"
      ],
      "metadata": {
        "colab": {
          "base_uri": "https://localhost:8080/"
        },
        "id": "FfCFOXkcYZOu",
        "outputId": "d41534b1-432d-4e8b-f33f-e5eac27c3fc2"
      },
      "execution_count": null,
      "outputs": [
        {
          "name": "stdout",
          "output_type": "stream",
          "text": [
            "Enter a number: 3\n"
          ]
        }
      ]
    },
    {
      "cell_type": "markdown",
      "source": [
        " 3. Catching All Exceptions (Not Recommended for General Use)\n",
        "You can catch any exception using except Exception: — useful for logging, but should be used carefully.\n",
        "\n",
        "Example:"
      ],
      "metadata": {
        "id": "YfgdpqqsYwTc"
      }
    },
    {
      "cell_type": "code",
      "source": [
        "try:\n",
        "    # risky code\n",
        "    pass\n",
        "except Exception as e:\n",
        "    print(\"An error occurred:\", e)"
      ],
      "metadata": {
        "id": "zSdv5EaUYpsD"
      },
      "execution_count": null,
      "outputs": []
    },
    {
      "cell_type": "markdown",
      "source": [
        "**Summary:**\n",
        "\n",
        "i) Use multiple except blocks to handle different errors separately.\n",
        "\n",
        "ii)Use a tuple in one except block to handle multiple exceptions with the same logic.\n",
        "\n",
        "iii)Avoid catching all exceptions blindly, unless you're logging or re-raising them."
      ],
      "metadata": {
        "id": "Pq81WIRYZhfo"
      }
    },
    {
      "cell_type": "markdown",
      "source": [
        "**Question-8) What is the purpose of the with statement when handling files in Python?**\n",
        "\n",
        "**Answer-8)** The purpose of the with statement when handling files in Python is to ensure that a resource, such as a file, is automatically and correctly managed. Its primary function is to guarantee that the file is closed, even if an error occurs during the program's execution.\n",
        "\n",
        "**How it Works:**\n",
        "\n",
        "The with statement utilizes a concept called context managers. A context manager is an object that defines the actions to be taken when entering and exiting a block of code.\n",
        "\n",
        " 1. Entering the Block: When the with statement is executed, the __enter__ method of the context manager is called. For a file, this is where the file is opened, and the file object is returned.\n",
        "\n",
        " 2. Exiting the Block: Once the code within the with block finishes—either successfully or due to an exception—the __exit__ method is automatically called. This is where the cleanup action occurs, which in the case of a file, is the file.close() operation.\n",
        "\n",
        "This automatic cleanup mechanism eliminates the need for manual try...finally blocks, making your code cleaner, more readable, and more robust against resource leaks.\n",
        "\n",
        "Example\n",
        "Here's a comparison to illustrate the difference:\n",
        "\n",
        "Without with:"
      ],
      "metadata": {
        "id": "TQ_ufFkgag8-"
      }
    },
    {
      "cell_type": "code",
      "source": [
        "file = open(\"example.txt\", \"w\")\n",
        "try:\n",
        "    file.write(\"Hello, World!\")\n",
        "    # An error here would be a problem...\n",
        "finally:\n",
        "    file.close() # This must be remembered"
      ],
      "metadata": {
        "id": "EtZY0LuCcrmV"
      },
      "execution_count": null,
      "outputs": []
    },
    {
      "cell_type": "markdown",
      "source": [
        "Exapmle With with:"
      ],
      "metadata": {
        "id": "ufdN_Jyve4Am"
      }
    },
    {
      "cell_type": "code",
      "source": [
        "with open(\"example.txt\", \"w\") as file:\n",
        "    file.write(\"Hello, World!\")\n",
        "# The file is guaranteed to be closed here, no matter what."
      ],
      "metadata": {
        "id": "AbuoGLzPcshE"
      },
      "execution_count": null,
      "outputs": []
    },
    {
      "cell_type": "markdown",
      "source": [
        "As shown, the with statement simplifies the code and removes the risk of forgetting to close the file, which is a common source of bugs."
      ],
      "metadata": {
        "id": "gmcLbzpvfHWg"
      }
    },
    {
      "cell_type": "markdown",
      "source": [
        "Question-9) What is the difference between multithreading and multiprocessing?\n",
        "\n",
        "**Answer-9)** Multithreading and multiprocessing are techniques for achieving concurrency, which is the ability to run multiple tasks seemingly at the same time. The main difference lies in how they achieve this: multithreading uses multiple threads within a single process, while multiprocessing uses multiple, independent processes\n",
        "\n",
        "Multithreading and multiprocessing are techniques for achieving concurrency, which is the ability to run multiple tasks seemingly at the same time. The main difference lies in how they achieve this: multithreading uses multiple threads within a single process, while multiprocessing uses multiple, independent processes.\n",
        "\n",
        "\n",
        "**Multithreading**\n",
        "\n",
        "Threads are lightweight, separate streams of execution that exist within a single process. Since they all belong to the same process, they share the same memory space and resources. This makes communication between threads fast and efficient.\n",
        "\n",
        "a) Shared Memory: All threads in a process can directly access the same data. While this is efficient, it can also lead to issues like race conditions, where multiple threads try to modify the same data at the same time, requiring careful synchronization.\n",
        "\n",
        "\n",
        "b) Context Switching: Switching between threads is relatively fast because the operating system only needs to save and restore the thread's state, not the entire process's state.\n",
        "\n",
        "c) Best for I/O-bound tasks: Multithreading is well-suited for tasks that spend a lot of time waiting for input/output operations to complete (e.g., reading from a file, making a network request). While one thread is waiting, another can be running, improving overall efficiency.\n",
        "\n",
        "c) Concurrency vs. Parallelism: In many environments, especially with Python's Global Interpreter Lock (GIL), multithreading provides concurrency but not true parallelism. This means tasks appear to run simultaneously by quickly switching between threads, but only one thread is actually executing at any given moment.\n",
        "\n",
        "\n",
        "**Multiprocessing**\n",
        "\n",
        "Processes are independent instances of a program, each with its own separate memory space, resources, and a single thread of execution (by default).\n",
        "\n",
        "a) Separate Memory: Each process has its own dedicated memory, which provides isolation. If one process crashes, it won't affect the others. This also means that sharing data between processes requires more complex and slower mechanisms, such as inter-process communication (IPC) through pipes or shared memory.\n",
        "\n",
        "b) Context Switching: Switching between processes is slower and more resource-intensive than switching between threads because the operating system has to save and load the entire state of each process.\n",
        "\n",
        "c) Best for CPU-bound tasks: Multiprocessing is ideal for tasks that are computationally heavy and depend on raw CPU power (e.g., data analysis, scientific calculations). Each process can run on a separate CPU core, allowing for true parallelism and significant speedup.\n",
        "\n",
        "d) Parallelism: Multiprocessing can take full advantage of multi-core processors, enabling multiple processes to run at the exact same time"
      ],
      "metadata": {
        "id": "Il-NY1tqfaXl"
      }
    },
    {
      "cell_type": "markdown",
      "source": [
        "Question-10) What are the advantages of using logging in a program?\n",
        "\n",
        "**Answer-10** Advantages of Using Logging in a Program\n",
        "Logging is a powerful tool that provides many benefits over using simple print() statements. Here are the key advantages:\n",
        "\n",
        "1. Tracks Program Execution\n",
        "Logging allows you to record the flow of your program, helping you understand what your code is doing step-by-step.\n",
        "\n",
        "2. Helps Debug Errors\n",
        "Logs can show when and where errors occur, including stack traces, without stopping the program abruptly.\n",
        "\n",
        "3. Keeps Records\n",
        "Logs can be saved to files, making it easy to review past issues or track historical program behavior over time.\n",
        "\n",
        "4. Different Levels of Importance\n",
        "With logging levels (DEBUG, INFO, WARNING, ERROR, CRITICAL), you can filter messages based on severity, making it easy to find important information.\n",
        "\n",
        "5. More Control Than print()\n",
        "\n",
        "  i)You can log to files, consoles, or remote servers\n",
        "\n",
        " ii)You can format log messages with timestamps, line numbers, etc.\n",
        "\n",
        "  iii)You can enable or disable logging easily without removing code\n",
        "\n",
        "6. Useful in Production Environments\n",
        "In live applications, logging helps monitor the system without interrupting users or showing technical details to them.\n",
        "\n",
        "7. Supports Automated Monitoring\n",
        "Logging integrates well with monitoring tools, which can automatically alert developers when something goes wrong.\n",
        "\n",
        "**Summary:**\n",
        "\n",
        "Logging improves debugging, tracking, and monitoring in your program. It’s reliable, flexible, and essential for maintaining and scaling software effectively.\n",
        "\n"
      ],
      "metadata": {
        "id": "f2jNQ7xcgosG"
      }
    },
    {
      "cell_type": "markdown",
      "source": [
        "**Question-11) What is memory management in Python?**\n",
        "\n",
        "**Answer-11)** Memory management in Python is a process that handles the allocation and deallocation of memory for objects and data structures. It ensures that memory is used efficiently and that the program doesn't run out of memory or leak resources. Python's memory management is largely automatic, which is one of the reasons it's considered a high-level language.\n",
        "\n",
        "Memory management in Python is a process that handles the allocation and deallocation of memory for objects and data structures. It ensures that memory is used efficiently and that the program doesn't run out of memory or leak resources. Python's memory management is largely automatic, which is one of the reasons it's considered a high-level language.\n",
        "\n",
        "**Key Components:**\n",
        "\n",
        "Python's memory management system relies on three main components:\n",
        "\n",
        "1. Garbage Collection: Python's garbage collector automatically reclaims memory that is no longer being used by the program. It primarily uses a technique called reference counting. Each object in Python has a reference count, which tracks how many times it is being pointed to by other objects or variables. When the reference count of an object drops to zero, the object is immediately deallocated, and its memory is reclaimed.\n",
        "However, reference counting cannot handle reference cycles, where two or more objects refer to each other, but are no longer accessible from the rest of the program. To address this, Python's garbage collector also includes a cyclic garbage collector that periodically scans for and collects these unreachable cycles.\n",
        "\n",
        "2. Memory Allocator: Python has its own private heap space where all objects and data structures are stored. The memory allocator is responsible for managing this heap. It requests large blocks of memory from the operating system and then manages the smaller chunks within them. This reduces the number of calls to the operating system's memory management functions, which can be slow.\n",
        "\n",
        "3. Automatic Management: Unlike languages like C or C++, you don't have to manually allocate or deallocate memory using functions like malloc() or free(). Python's memory management system handles this behind the scenes, allowing you to focus on the logic of your program without worrying about low-level memory operations. This automatic process helps prevent common errors like memory leaks and dangling pointers."
      ],
      "metadata": {
        "id": "cakiLxm5h5em"
      }
    },
    {
      "cell_type": "markdown",
      "source": [
        "Question-12) What are the basic steps involved in exception handling in Python?\n",
        "\n",
        "**Answer-12)** The basic steps involved in exception handling in Python are to use a try block to monitor for exceptions, an except block to handle specific exceptions that may occur, and an optional finally block for cleanup.\n",
        "\n",
        "1. try Block\n",
        "The first step is to place the code that might raise an exception inside a try block. Python will execute this code and monitor for any errors. If an exception occurs, the normal flow of the try block is immediately halted, and Python looks for an appropriate except block to handle the error."
      ],
      "metadata": {
        "id": "cf3LgBopjB2Q"
      }
    },
    {
      "cell_type": "code",
      "source": [
        "try:\n",
        "    # Code that might raise an exception\n",
        "    result = 10 / 0\n",
        "except Exception as e:\n",
        "    print(f\"An error occurred: {e}\")"
      ],
      "metadata": {
        "colab": {
          "base_uri": "https://localhost:8080/"
        },
        "id": "JR2wBYzXjh4-",
        "outputId": "24484469-24cd-4c95-c4b8-bc3671230198"
      },
      "execution_count": null,
      "outputs": [
        {
          "output_type": "stream",
          "name": "stdout",
          "text": [
            "An error occurred: division by zero\n"
          ]
        }
      ]
    },
    {
      "cell_type": "markdown",
      "source": [
        "2. except Block\n",
        "The next step is to define one or more except blocks to catch and handle specific exceptions. If an exception is raised in the try block, Python jumps to the corresponding except block. You can specify the type of exception to catch, and Python will only execute the code in that block if the exception type matches. You can have multiple except blocks to handle different errors in different ways."
      ],
      "metadata": {
        "id": "AkeYNx9wkMm1"
      }
    },
    {
      "cell_type": "code",
      "source": [
        "try:\n",
        "    result = 10 / 0\n",
        "except ZeroDivisionError:\n",
        "    # Code to handle a ZeroDivisionError\n",
        "    print(\"You cannot divide by zero!\")"
      ],
      "metadata": {
        "colab": {
          "base_uri": "https://localhost:8080/"
        },
        "id": "mXmx9ZO4j_ay",
        "outputId": "0eb6a42c-ac3c-44f3-b0d1-a1b146fbf83a"
      },
      "execution_count": null,
      "outputs": [
        {
          "output_type": "stream",
          "name": "stdout",
          "text": [
            "You cannot divide by zero!\n"
          ]
        }
      ]
    },
    {
      "cell_type": "markdown",
      "source": [
        "3. finally Block (Optional)\n",
        "The final, optional step is to use a finally block. The code inside this block will always execute, regardless of whether an exception occurred in the try block or was handled by an except block. This block is typically used for cleanup actions, such as closing a file or a network connection, to ensure resources are properly released."
      ],
      "metadata": {
        "id": "75a2QO9vkSCq"
      }
    },
    {
      "cell_type": "code",
      "source": [
        "try:\n",
        "    result = 10 / 0\n",
        "except ZeroDivisionError:\n",
        "    print(\"You cannot divide by zero!\")\n",
        "finally:\n",
        "    print(\"This code always runs.\")"
      ],
      "metadata": {
        "colab": {
          "base_uri": "https://localhost:8080/"
        },
        "id": "TEIKMj9ZkQfE",
        "outputId": "292b46e1-687a-490b-e297-70580c91c054"
      },
      "execution_count": null,
      "outputs": [
        {
          "output_type": "stream",
          "name": "stdout",
          "text": [
            "You cannot divide by zero!\n",
            "This code always runs.\n"
          ]
        }
      ]
    },
    {
      "cell_type": "markdown",
      "source": [
        "**Question-13) Why is memory management important in Python?**\n",
        "\n",
        "**Answer-13)** Memory management is important in Python because it automates the allocation and deallocation of memory, preventing common programming errors and ensuring efficient use of system resources. This automation allows developers to focus on application logic rather than low-level memory operations.\n",
        "\n",
        "**Key Reasons for Its Importance:**\n",
        "\n",
        "1. Prevention of Memory Leaks: Python's garbage collector automatically reclaims memory from objects that are no longer in use. This prevents memory leaks, where a program holds on to memory it no longer needs, which can slow down the system and eventually cause the application to crash.\n",
        "\n",
        "2. Increased Developer Productivity: Since Python's memory management handles the complexities of memory allocation and deallocation behind the scenes, developers don't have to manually manage memory. This saves time and reduces the likelihood of errors like dangling pointers or double-free bugs that are common in languages like C or C++.\n",
        "\n",
        "\n",
        "3. Efficiency: The memory management system, particularly the use of a private heap and a specialized allocator, is designed to be efficient. It minimizes the number of calls to the operating system for memory requests, which can be a slow process. It also includes an advanced garbage collector to handle tricky scenarios like reference cycles, where objects are self-referential and wouldn't be collected by simple reference counting. This ensures memory is reclaimed effectively, keeping the program's memory footprint as small as possible."
      ],
      "metadata": {
        "id": "arKn6_AKkaoy"
      }
    },
    {
      "cell_type": "markdown",
      "source": [
        "Question-14) What is the role of try and except in exception handling?\n",
        "\n",
        "**Answer-14)** The try and except blocks are the core components of exception handling in Python. Their roles are to test a block of code for errors (try) and to handle the exceptions gracefully if they occur (except). This prevents a program from crashing and allows for a controlled response.\n",
        "\n",
        "**The try Block**\n",
        "\n",
        "The try block contains the code that is being monitored for potential errors. Python will execute this code, and if an exception (error) occurs, the try block's execution stops, and control is passed to the appropriate except block.\n",
        "\n",
        "**The except Block**\n",
        "\n",
        "The except block specifies the actions to take when a particular type of exception is caught. You can have multiple except blocks to handle different types of exceptions in different ways. This is where you put the code to deal with the error, such as printing a user-friendly message, logging the issue, or providing a default value.\n",
        "\n",
        "Example\n",
        "Here's an example that demonstrates their roles:"
      ],
      "metadata": {
        "id": "VUU8WzVllLKt"
      }
    },
    {
      "cell_type": "code",
      "source": [
        "try:\n",
        "    # This code might raise a ValueError if the user enters text\n",
        "    num = int(input(\"Please enter a number: \"))\n",
        "    result = 10 / num\n",
        "    print(f\"The result is: {result}\")\n",
        "except ValueError:\n",
        "    # This block handles a specific exception (ValueError)\n",
        "    print(\"Invalid input! Please enter a valid number.\")\n",
        "except ZeroDivisionError:\n",
        "    # This block handles another specific exception\n",
        "    print(\"You can't divide by zero!\")"
      ],
      "metadata": {
        "colab": {
          "base_uri": "https://localhost:8080/"
        },
        "id": "NdwX8J5VkYFv",
        "outputId": "187eec38-3c3e-4e14-dadf-70a289117478"
      },
      "execution_count": null,
      "outputs": [
        {
          "output_type": "stream",
          "name": "stdout",
          "text": [
            "Please enter a number: 12\n",
            "The result is: 0.8333333333333334\n"
          ]
        }
      ]
    },
    {
      "cell_type": "markdown",
      "source": [
        "In this example:\n",
        "\n",
        "The code within the try block prompts the user for a number.\n",
        "\n",
        "If the user enters \"hello\" instead of a number, a ValueError is raised. The except ValueError block catches this and prints a helpful message.\n",
        "\n",
        "If the user enters 0, a ZeroDivisionError is raised, and the except ZeroDivisionError block handles it.\n",
        "\n",
        "In either case, the program doesn't crash; instead, it provides a controlled and informative response."
      ],
      "metadata": {
        "id": "Ff6pE7y4mTRZ"
      }
    },
    {
      "cell_type": "markdown",
      "source": [
        "**Question-15) How does Python's garbage collection system work?**\n",
        "\n",
        "**Answer-15)** Python's garbage collection system works by automatically reclaiming memory from objects that are no longer in use. It mainly uses two mechanisms: reference counting and a cyclic garbage collector.\n",
        "\n",
        "**Reference Counting**\n",
        "\n",
        "Reference counting is Python's primary garbage collection mechanism. Each object has a hidden counter that tracks the number of references pointing to it. When an object's reference count drops to zero, it means the object is no longer accessible, and Python immediately reclaims its memory.\n",
        "\n",
        "Here's an example of reference counting:"
      ],
      "metadata": {
        "id": "UAlroaAamfEv"
      }
    },
    {
      "cell_type": "code",
      "source": [
        "import sys\n",
        "\n",
        "# An object is created, reference count is 1\n",
        "a = [1, 2, 3]\n",
        "print(f\"Reference count of a: {sys.getrefcount(a) - 1}\") # sys.getrefcount includes the reference from the function call itself.\n",
        "\n",
        "# A new variable 'b' refers to the same object, count increases\n",
        "b = a\n",
        "print(f\"Reference count of a after b = a: {sys.getrefcount(a) - 1}\")\n",
        "\n",
        "# A reference is removed, count decreases\n",
        "del a\n",
        "print(f\"Reference count of the list after deleting a: {sys.getrefcount(b) - 1}\")\n",
        "\n",
        "# The last reference is removed; the object is garbage collected.\n",
        "del b\n",
        "# At this point, the list [1, 2, 3] is no longer in memory."
      ],
      "metadata": {
        "colab": {
          "base_uri": "https://localhost:8080/"
        },
        "id": "2g8QWqoKlxTK",
        "outputId": "e78a58f7-425a-48af-c743-5535769c212c"
      },
      "execution_count": null,
      "outputs": [
        {
          "output_type": "stream",
          "name": "stdout",
          "text": [
            "Reference count of a: 1\n",
            "Reference count of a after b = a: 2\n",
            "Reference count of the list after deleting a: 1\n"
          ]
        }
      ]
    },
    {
      "cell_type": "markdown",
      "source": [
        "The output of this code demonstrates how the reference count increases and decreases, leading to garbage collection when it reaches zero."
      ],
      "metadata": {
        "id": "LvJ0ot30odMN"
      }
    },
    {
      "cell_type": "markdown",
      "source": [
        "**Cyclic Garbage Collector**\n",
        "\n",
        "Reference counting fails to collect objects involved in reference cycles, where objects refer to each other but are no longer accessible from the rest of the program. To address this, Python has a separate, periodic cyclic garbage collector. It scans for these isolated groups of objects and reclaims their memory.\n",
        "\n",
        "Here's an example of a reference cycle that the cyclic garbage collector would handle:"
      ],
      "metadata": {
        "id": "itKTh8t-osmI"
      }
    },
    {
      "cell_type": "code",
      "source": [
        "import gc\n",
        "\n",
        "class Node:\n",
        "    def __init__(self, value):\n",
        "        self.value = value\n",
        "        self.next = None\n",
        "\n",
        "# Disable garbage collection to demonstrate the cycle\n",
        "gc.disable()\n",
        "\n",
        "# Create two objects that reference each other, creating a cycle\n",
        "node1 = Node(1)\n",
        "node2 = Node(2)\n",
        "node1.next = node2\n",
        "node2.next = node1\n",
        "\n",
        "# The only references to these objects are within the cycle.\n",
        "# 'del' won't free the memory.\n",
        "del node1\n",
        "del node2\n",
        "\n",
        "# Re-enable and run the garbage collector manually\n",
        "gc.enable()\n",
        "collected = gc.collect()\n",
        "\n",
        "print(f\"Objects collected: {collected}\")"
      ],
      "metadata": {
        "colab": {
          "base_uri": "https://localhost:8080/"
        },
        "id": "GWfJU3lzoAHs",
        "outputId": "6308da88-3d9b-4783-ebbc-975688fd7e2d"
      },
      "execution_count": null,
      "outputs": [
        {
          "output_type": "stream",
          "name": "stdout",
          "text": [
            "Objects collected: 8\n"
          ]
        }
      ]
    },
    {
      "cell_type": "markdown",
      "source": [
        "In this example, after deleting the variables node1 and node2, the two Node objects still refer to each other. Their reference counts never drop to zero. The gc.collect() call is needed to trigger the cyclic garbage collector, which then finds and reclaims the memory for these two unreachable objects."
      ],
      "metadata": {
        "id": "zflhzIpho3Pf"
      }
    },
    {
      "cell_type": "markdown",
      "source": [
        "**question-16) What is the purpose of the else block in exception handling?**\n",
        "\n",
        "**Answer-16)**  In Python, the else block in exception handling is used to define code that should run only if no exceptions were raised in the try block.\n",
        "\n",
        "Purpose of the else block:\n",
        "\n",
        "a) It separates the \"successful path\" from the error-handling path.\n",
        "\n",
        "b) It makes your code clearer and more readable, especially when the try block contains code that might raise exceptions, and the rest should run only when no exception occurs.\n",
        "\n",
        "Example:"
      ],
      "metadata": {
        "id": "Pdv-0WtIo3yW"
      }
    },
    {
      "cell_type": "code",
      "source": [
        "try:\n",
        "    number = int(input(\"Enter a number: \"))\n",
        "except ValueError:\n",
        "    print(\"That was not a valid number.\")\n",
        "else:\n",
        "    print(f\"Success! You entered: {number}\")"
      ],
      "metadata": {
        "id": "Q0NPpxxQo174",
        "colab": {
          "base_uri": "https://localhost:8080/"
        },
        "outputId": "2ab147bd-5920-4be5-ba91-90294beb9b18"
      },
      "execution_count": 1,
      "outputs": [
        {
          "output_type": "stream",
          "name": "stdout",
          "text": [
            "Enter a number: 1\n",
            "Success! You entered: 1\n"
          ]
        }
      ]
    },
    {
      "cell_type": "markdown",
      "source": [
        "If the user enters something that can be converted to an integer, the else block runs.\n",
        "\n",
        "If an exception occurs (like entering \"abc\"), the except block runs, and else is skipped.\n",
        "\n",
        "It is Importent to be noted that:-\n",
        "\n",
        "The else block must come after all except blocks, but before any finally block.\n",
        "\n",
        "It is optional—you don’t need it if you have nothing to run when no exception happens."
      ],
      "metadata": {
        "id": "j7sJzEyyqIo5"
      }
    },
    {
      "cell_type": "markdown",
      "source": [
        "**Question-17) What are the common logging levels in Python?**\n",
        "\n",
        "**Answer-17)** The common logging levels in Python, from lowest to highest severity, are:\n",
        "\n",
        "1. DEBUG: Detailed information, typically of interest only when diagnosing problems.\n",
        "\n",
        "2. INFO: Confirmation that things are working as expected.\n",
        "\n",
        "3. WARNING: An indication that something unexpected happened, or a potential problem in the near future (e.g., 'disk space low'). The software is still working as expected.\n",
        "\n",
        "4. ERROR: Due to a more serious problem, the software has not been able to perform some function.\n",
        "\n",
        "5. CRITICAL: A serious error, indicating that the program itself may be unable to continue running.\n",
        "\n",
        "**How Logging Levels Work:-**\n",
        "\n",
        "When you configure your Python logger, you set a minimum logging level. The logger will only process messages that are at or above this level. For example, if you set the level to INFO, messages logged with DEBUG will be ignored, but INFO, WARNING, ERROR, and CRITICAL messages will all be processed. This allows you to control the verbosity of your logs, showing only the most important messages in production, while enabling all messages for development and debugging."
      ],
      "metadata": {
        "id": "EDB48xTdqYXz"
      }
    },
    {
      "cell_type": "markdown",
      "source": [
        "Question-18) What is the difference between os.fork() and multiprocessing in Python?\n",
        "\n",
        "**Answer-18)** The key difference is that os.fork() is a lower-level function that creates a new process by duplicating the current one, while multiprocessing is a high-level module that provides an object-oriented API for managing processes. The multiprocessing module is a cross-platform solution, whereas os.fork() is only available on Unix-like operating systems.\n",
        "\n",
        "**os.fork()**\n",
        "\n",
        "The os.fork() function is a direct wrapper around the Unix fork() system call. When you call it, the operating system creates a new process that is an exact copy of the parent process. The two processes (parent and child) then continue to run, and you can distinguish between them by checking the return value of os.fork(). The parent process gets the child's process ID, and the child process gets 0. The main drawback is that this is not portable to Windows and requires manual handling of inter-process communication (IPC) and process management.\n",
        "\n",
        "**multiprocessing**\n",
        "\n",
        "The multiprocessing module offers a much more user-friendly and portable way to create and manage processes. It provides a Process class, as well as pools, queues, and pipes for easy IPC. This module is built to be a drop-in replacement for the threading module, meaning its API is similar and easy to learn for anyone familiar with threads. It works on all major operating systems, including Windows, by using different underlying mechanisms (like spawn or fork depending on the OS) to create new processes. This high-level abstraction simplifies the complexities of process management and communication.\n",
        "\n",
        "Example using os.fork():"
      ],
      "metadata": {
        "id": "WxEApj7iqt3H"
      }
    },
    {
      "cell_type": "code",
      "source": [
        "import os\n",
        "\n",
        "def child_process():\n",
        "    print(\"Child process is running with PID:\", os.getpid())\n",
        "\n",
        "pid = os.fork()\n",
        "\n",
        "if pid == 0:\n",
        "    # Inside child process\n",
        "    child_process()\n",
        "else:\n",
        "    # Inside parent process\n",
        "    print(\"Parent process. Child PID:\", pid)"
      ],
      "metadata": {
        "colab": {
          "base_uri": "https://localhost:8080/"
        },
        "id": "2bnWpKu5piTF",
        "outputId": "2e32bf12-7a03-4ef0-c0fc-98fd43c965a1"
      },
      "execution_count": 2,
      "outputs": [
        {
          "output_type": "stream",
          "name": "stdout",
          "text": [
            "Parent process. Child PID: 4790\n",
            "Child process is running with PID: "
          ]
        }
      ]
    },
    {
      "cell_type": "markdown",
      "source": [
        "Example using multiprocessing:"
      ],
      "metadata": {
        "id": "lRGHtLx8tQ64"
      }
    },
    {
      "cell_type": "code",
      "source": [
        "from multiprocessing import Process\n",
        "import os\n",
        "\n",
        "def child_process():\n",
        "    print(\"Child process is running with PID:\", os.getpid())\n",
        "\n",
        "if __name__ == '__main__':\n",
        "    p = Process(target=child_process)\n",
        "    p.start()\n",
        "    print(\"Parent process. Child PID:\", p.pid)\n",
        "    p.join()  # Wait for child to finish"
      ],
      "metadata": {
        "colab": {
          "base_uri": "https://localhost:8080/"
        },
        "id": "8PeiHtr_tNPT",
        "outputId": "75ae5c8b-a079-4794-f5bd-c032b1305172"
      },
      "execution_count": 3,
      "outputs": [
        {
          "output_type": "stream",
          "name": "stdout",
          "text": [
            "Child process is running with PID: 5119\n",
            "Parent process. Child PID: 5119\n"
          ]
        }
      ]
    },
    {
      "cell_type": "markdown",
      "source": [
        "**Question-19) What is the importance of closing a file in Python?**\n",
        "\n",
        "**Answer-19** It's important to close a file in Python to free up system resources and ensure data integrity. When you're done working with a file, you should explicitly close it.\n",
        "\n",
        "**Why File Closure is Important**\n",
        "\n",
        "a) Releasing System Resources: An open file maintains a connection to the operating system. If you don't close a file, it remains open, consuming a limited resource known as a \"file handle\" or \"file descriptor.\" On most operating systems, there's a limit to how many files a program can have open at once. Failing to close files can lead to a Too many open files error, which can crash your program.\n",
        "\n",
        "b) Ensuring Data Integrity: When you write data to a file, it may not be immediately saved to the disk. The operating system often buffers the data, holding it in memory for efficiency. Closing the file forces the operating system to flush this buffer and write all the remaining data to the physical disk. If your program crashes or loses power before the file is closed, you risk losing data or having a corrupted file.\n",
        "\n",
        "c) Permission Management: Closing a file releases the lock on it, allowing other programs or processes to access or modify the file. If you forget to close a file, other parts of your program or other applications might be unable to open it.\n",
        "\n",
        "**How to Close a File**\n",
        "\n",
        "The most reliable and recommended way to ensure a file is always closed is by using the with statement. The with statement automatically handles file closure, even if an error occurs within the block."
      ],
      "metadata": {
        "id": "-dh4LGuUuI9Y"
      }
    },
    {
      "cell_type": "code",
      "source": [
        "# Create the file first for demonstration\n",
        "with open(\"my_file.txt\", \"w\") as file:\n",
        "    file.write(\"This is a test file.\")\n",
        "\n",
        "with open(\"my_file.txt\", \"r\") as file:\n",
        "    content = file.read()\n",
        "    # No need to explicitly call file.close()\n",
        "    # The file is automatically closed when the 'with' block is exited\n",
        "print(file.closed) # This will print 'True'"
      ],
      "metadata": {
        "colab": {
          "base_uri": "https://localhost:8080/"
        },
        "id": "Er7hREUFtg6m",
        "outputId": "a49c6cf6-1798-4c81-a214-ef5c17a17d52"
      },
      "execution_count": 5,
      "outputs": [
        {
          "output_type": "stream",
          "name": "stdout",
          "text": [
            "True\n"
          ]
        }
      ]
    },
    {
      "cell_type": "markdown",
      "source": [
        "**Question-20) What is the difference between file.read() and file.readline() in Python?**\n",
        "\n",
        "**Answer-20)** file.read() and file.readline() are both methods used to read data from a file, but they differ in how much data they read at a time. file.read() reads the entire file content into a single string, while file.readline() reads one line at a time.\n",
        "\n",
        "1. **file.read()**\n",
        "\n",
        "file.read() is best for small to medium-sized files where you want to load all the data into memory at once. It returns the entire file content as a single string. You can also pass an integer argument, n, to read(n), and it will read only the next n characters.\n",
        "\n",
        "Example:"
      ],
      "metadata": {
        "id": "eEUC5McGvo-U"
      }
    },
    {
      "cell_type": "code",
      "source": [
        "with open(\"example.txt\", \"w\") as file:\n",
        "    file.write(\"Hello World!\")\n",
        "\n",
        "# Step 2: Read the entire content using file.read()\n",
        "with open(\"example.txt\", \"r\") as file:\n",
        "    content = file.read()  # Reads the full content of the file\n",
        "    print(\"File content:\\n\" + content)"
      ],
      "metadata": {
        "colab": {
          "base_uri": "https://localhost:8080/"
        },
        "id": "Gkxe2uTBw6jX",
        "outputId": "826b0f42-fa72-4a9c-ee1a-584010200f0a"
      },
      "execution_count": 20,
      "outputs": [
        {
          "output_type": "stream",
          "name": "stdout",
          "text": [
            "File content:\n",
            "Hello World!\n"
          ]
        }
      ]
    },
    {
      "cell_type": "markdown",
      "source": [
        "2. **file.readline()**\n",
        "\n",
        "file.readline() is more memory-efficient for large files because it reads only one line at a time. Each time you call it, it reads the next line and moves the file pointer. This is ideal for processing large files line by line without overwhelming your system's memory. It returns an empty string ('') when it reaches the end of the file.\n",
        "\n",
        "Example"
      ],
      "metadata": {
        "id": "XjIvyZ9W1Jz4"
      }
    },
    {
      "cell_type": "code",
      "metadata": {
        "colab": {
          "base_uri": "https://localhost:8080/"
        },
        "id": "48c0633b",
        "outputId": "dd2b2930-caab-47b6-d1b8-81aa2c1a9ecf"
      },
      "source": [
        "import os\n",
        "\n",
        "# Step 1: Create a temporary file and write some content to it.\n",
        "file_name = \"greetings.txt\"\n",
        "with open(file_name, \"w\") as file:\n",
        "    file.write(\"Hello, World!\\n\")\n",
        "    file.write(\"Welcome to Python.\\n\")\n",
        "    file.write(\"Enjoy coding!\\n\")\n",
        "\n",
        "print(f\"Created a file named '{file_name}'.\\n\")\n",
        "\n",
        "# Step 2: Open the file for reading and use readline()\n",
        "with open(file_name, \"r\") as file:\n",
        "    # Read the first line\n",
        "    line1 = file.readline()\n",
        "    print(f\"Reading first line: '{line1.strip()}'\")\n",
        "\n",
        "    # Read the second line\n",
        "    line2 = file.readline()\n",
        "    print(f\"Reading second line: '{line2.strip()}'\")\n",
        "\n",
        "    # Read the third line\n",
        "    line3 = file.readline()\n",
        "    print(f\"Reading third line: '{line3.strip()}'\")\n",
        "\n",
        "    # This will return an empty string because we're at the end of the file\n",
        "    empty_line = file.readline()\n",
        "    print(f\"Reading after the last line: '{empty_line}'\")\n",
        "\n",
        "# Step 3: Clean up by deleting the temporary file.\n",
        "os.remove(file_name)\n",
        "print(f\"\\nRemoved the file '{file_name}'.\")"
      ],
      "execution_count": 24,
      "outputs": [
        {
          "output_type": "stream",
          "name": "stdout",
          "text": [
            "Created a file named 'greetings.txt'.\n",
            "\n",
            "Reading first line: 'Hello, World!'\n",
            "Reading second line: 'Welcome to Python.'\n",
            "Reading third line: 'Enjoy coding!'\n",
            "Reading after the last line: ''\n",
            "\n",
            "Removed the file 'greetings.txt'.\n"
          ]
        }
      ]
    },
    {
      "cell_type": "markdown",
      "source": [
        "Questuion-21) What is the logging module in Python used for?\n",
        "\n",
        "**Answer-21)** The logging module in Python is used for tracking events that occur when a program runs. It provides a flexible and powerful framework for recording status messages, debugging information, errors, and warnings to various destinations like the console, a file, or even an email. This is crucial for debugging and monitoring applications.\n",
        "\n",
        "**key Components:**\n",
        "\n",
        "The logging module consists of several main components that work together to create a logging system:\n",
        "\n",
        "  a)Loggers: The entry point to the logging system. Loggers are responsible for exposing the logging API (e.g., logger.info(), logger.error()). They are organized in a hierarchy, allowing for a structured approach to managing logs.\n",
        "\n",
        "  b)Handlers: These objects determine where the log messages go. Examples include StreamHandler for sending messages to the console and FileHandler for writing to a file.\n",
        "\n",
        "  c)Formatters: These specify the layout of the log messages. A formatter can be used to add timestamps, the name of the logger, the logging level, and other useful information to each message.\n",
        "\n",
        "  d)Filters: Filters provide a finer-grained control over which log messages are allowed to pass through from a logger to a handler.\n",
        "\n",
        "**Logging Levels**\n",
        "\n",
        "The module defines a standard set of logging levels, each representing a different severity. You can configure your logger to only handle messages at a specific level or higher.\n",
        "\n",
        "i) DEBUG: Detailed information, useful for developers when diagnosing problems.\n",
        "\n",
        "ii) INFO: Confirmation that things are working as expected.\n",
        "\n",
        "iii) WARNING: An indication that something unexpected happened. The software is still working, but there might be a problem.\n",
        "\n",
        "iv) ERROR: The software has failed to perform a function due to a serious problem.\n",
        "\n",
        "v) CRITICAL: A very serious error, indicating the program may be unable to continue."
      ],
      "metadata": {
        "id": "HXaZKrL73sFK"
      }
    },
    {
      "cell_type": "code",
      "source": [
        "import logging\n",
        "\n",
        "# Basic configuration: Sets the minimum level to INFO,\n",
        "# so only messages of INFO severity or higher will be shown.\n",
        "logging.basicConfig(level=logging.INFO)\n",
        "\n",
        "# Log messages at different severity levels\n",
        "logging.debug(\"This is a debug message.\")  # This won't be shown because the level is INFO\n",
        "logging.info(\"This is an informational message.\")\n",
        "logging.warning(\"This is a warning message.\")\n",
        "logging.error(\"This is an error message.\")\n",
        "\n",
        "# To see the DEBUG message, you would change the level in basicConfig\n",
        "# to logging.DEBUG."
      ],
      "metadata": {
        "colab": {
          "base_uri": "https://localhost:8080/"
        },
        "id": "sZ7VFKKZ0Hf9",
        "outputId": "0c2005fa-00db-4bf9-cb8e-f67f163041c6"
      },
      "execution_count": 26,
      "outputs": [
        {
          "output_type": "stream",
          "name": "stderr",
          "text": [
            "WARNING:root:This is a warning message.\n",
            "ERROR:root:This is an error message.\n"
          ]
        }
      ]
    },
    {
      "cell_type": "markdown",
      "source": [
        "Question-22) What is the os module in Python used for in file handling?\n",
        "\n",
        "**Answer-22)** The os module in Python is used for interacting with the operating system. In file handling, it provides a portable way to perform operations that are dependent on the operating system's file system, such as manipulating file paths, creating and deleting directories, and renaming files. It's an essential tool for writing code that works across different platforms like Windows, macOS, and Linux without having to change the code.\n",
        "\n",
        "Example:-\n",
        "\n",
        "This example demonstrates how to use several common os module functions to create and manage a directory and a file within it."
      ],
      "metadata": {
        "id": "wk6lxNtx5nsW"
      }
    },
    {
      "cell_type": "code",
      "source": [
        "import os\n",
        "\n",
        "# Define the directory and file names\n",
        "dir_name = \"my_data\"\n",
        "file_name = \"report.txt\"\n",
        "file_path = os.path.join(dir_name, file_name)\n",
        "\n",
        "# 1. Check if a directory exists and create it if it doesn't\n",
        "if not os.path.exists(dir_name):\n",
        "    os.mkdir(dir_name)\n",
        "    print(f\"Directory '{dir_name}' created.\")\n",
        "else:\n",
        "    print(f\"Directory '{dir_name}' already exists.\")\n",
        "\n",
        "# 2. Write a file inside the new directory\n",
        "with open(file_path, \"w\") as file:\n",
        "    file.write(\"This is a sample report.\")\n",
        "    print(f\"File '{file_path}' created.\")\n",
        "\n",
        "# 3. List the contents of the directory\n",
        "print(f\"\\nContents of '{dir_name}': {os.listdir(dir_name)}\")\n",
        "\n",
        "# 4. Rename the file\n",
        "new_file_name = \"final_report.txt\"\n",
        "new_file_path = os.path.join(dir_name, new_file_name)\n",
        "os.rename(file_path, new_file_path)\n",
        "print(f\"File renamed to '{new_file_path}'.\")\n",
        "\n",
        "# 5. Clean up by removing the file and then the directory\n",
        "os.remove(new_file_path)\n",
        "print(f\"File '{new_file_path}' deleted.\")\n",
        "os.rmdir(dir_name)\n",
        "print(f\"Directory '{dir_name}' deleted.\")"
      ],
      "metadata": {
        "colab": {
          "base_uri": "https://localhost:8080/"
        },
        "id": "hIhnxzOV5BWg",
        "outputId": "0ff62d70-952a-4d3e-c5ad-d4e78e174f3d"
      },
      "execution_count": 27,
      "outputs": [
        {
          "output_type": "stream",
          "name": "stdout",
          "text": [
            "Directory 'my_data' created.\n",
            "File 'my_data/report.txt' created.\n",
            "\n",
            "Contents of 'my_data': ['report.txt']\n",
            "File renamed to 'my_data/final_report.txt'.\n",
            "File 'my_data/final_report.txt' deleted.\n",
            "Directory 'my_data' deleted.\n"
          ]
        }
      ]
    },
    {
      "cell_type": "markdown",
      "source": [
        "**Question-23) What are the challenges associated with memory management in Python?**\n",
        "\n",
        "**Answer-23)** Memory management in Python, while largely automated, presents several challenges, primarily related to memory overhead, garbage collection, and memory leaks. Python's memory management is handled by a private heap, and a garbage collector with a reference counting system is used to free up memory.\n",
        "\n",
        "1. **Memory Overhead**\n",
        "\n",
        "Python objects have a significant memory overhead. Every object, no matter how small, is a C struct on the heap, which includes fields for its type, size, and a reference count. A simple integer, for example, is not just its value but a full-fledged object, consuming more memory than its C counterpart. This overhead is especially noticeable when working with large collections of small objects, like a list of integers.\n",
        "\n",
        "2. **Garbage Collection**\n",
        "\n",
        "Python uses two main mechanisms for garbage collection:\n",
        "\n",
        "a) Reference Counting: This is Python's primary method. Each object keeps a count of how many references point to it. When an object's reference count drops to zero, the object is immediately deallocated. The challenge here is that it can't handle reference cycles, where two or more objects refer to each other, but are no longer accessible from the rest of the program. This leads to a memory leak if left unaddressed.\n",
        "\n",
        "b) Generational Garbage Collector: To deal with reference cycles, Python has a generational garbage collector. It periodically scans for groups of objects with circular references that have a non-zero reference count but are unreachable. Objects are placed into \"generations\" based on their age. Newer objects (Generation 0) are checked more frequently because they're more likely to be short-lived. This process is effective but can introduce occasional performance pauses.\n",
        "\n",
        "3. **Memory Leaks**\n",
        "\n",
        "Although Python has an automated garbage collector, memory leaks can still occur. The most common causes are:\n",
        "\n",
        "i) Global Variables: Objects stored in global variables are never garbage collected because their reference count never drops to zero, even if they're no longer needed.\n",
        "\n",
        "ii) Reference Cycles: As mentioned, if the garbage collector fails to detect and collect all circular references, it can result in a memory leak.\n",
        "\n",
        "iii) External Libraries: Memory allocated by external C libraries or extensions (e.g., in a Python C extension) is not managed by Python's garbage collector. If the extension doesn't properly free its memory, it can lead to a leak.\n",
        "\n",
        "iv) Long-lived objects in a closure: Objects in a closure can prevent local variables from being garbage collected. If a closure is stored in a long-lived object, the objects it references may never be released.\n",
        "\n"
      ],
      "metadata": {
        "id": "dXUz5bpA6qD7"
      }
    },
    {
      "cell_type": "markdown",
      "source": [
        "**Question-24) How do you raise an exception manually in Python?**\n",
        "\n",
        "\n",
        "**Answer-24)** We raise an exception manually in Python using the raise statement. You can raise a built-in exception, a custom exception, or re-raise an exception that was already caught.\n",
        "\n",
        "**Raising a Built-in Exception**\n",
        "\n",
        "You can raise any of Python's standard exceptions, such as ValueError or TypeError, by using the raise statement followed by the exception class and an optional error message. This is useful for signaling that an input or condition is invalid.\n",
        "\n",
        "Example:-"
      ],
      "metadata": {
        "id": "Ch8r65d18Pds"
      }
    },
    {
      "cell_type": "code",
      "source": [
        "def check_age(age):\n",
        "    if not isinstance(age, int):\n",
        "        raise TypeError(\"Age must be an integer.\")\n",
        "    if age < 0:\n",
        "        raise ValueError(\"Age cannot be a negative number.\")\n",
        "    print(f\"Age is {age}.\")\n",
        "\n",
        "# This call works correctly\n",
        "check_age(25)\n",
        "\n",
        "# This call correctly raises a ValueError\n",
        "try:\n",
        "    check_age(-5)\n",
        "except ValueError as e:\n",
        "    print(f\"Caught an error: {e}\")\n",
        "\n",
        "# This call would raise a TypeError\n",
        "try:\n",
        "    check_age(\"twenty-five\")\n",
        "except TypeError as e:\n",
        "    print(f\"Caught an error: {e}\")"
      ],
      "metadata": {
        "colab": {
          "base_uri": "https://localhost:8080/"
        },
        "id": "bl4Cye6y6T9q",
        "outputId": "cc53bcb1-b472-40b7-9780-574d4d9e6f7b"
      },
      "execution_count": 31,
      "outputs": [
        {
          "output_type": "stream",
          "name": "stdout",
          "text": [
            "Age is 25.\n",
            "Caught an error: Age cannot be a negative number.\n",
            "Caught an error: Age must be an integer.\n"
          ]
        }
      ]
    },
    {
      "cell_type": "markdown",
      "source": [
        "**Raising a Custom Exception**\n",
        "\n",
        "For more specific errors, you can define your own exception classes that inherit from a standard exception like Exception. This makes your code more readable and allows for more precise exception handling."
      ],
      "metadata": {
        "id": "69T30pLO-YbP"
      }
    },
    {
      "cell_type": "code",
      "source": [
        "class InsufficientFundsError(Exception):\n",
        "    \"Raised when a withdrawal amount exceeds the account balance.\"\n",
        "    pass\n",
        "\n",
        "def withdraw(balance, amount):\n",
        "    if amount > balance:\n",
        "        raise InsufficientFundsError(\"You do not have enough funds for this withdrawal.\")\n",
        "    return balance - amount\n",
        "\n",
        "try:\n",
        "    current_balance = 100\n",
        "    withdraw(current_balance, 200)\n",
        "except InsufficientFundsError as e:\n",
        "    print(f\"Error: {e}\")\n",
        "# Output: Error: You do not have enough funds for this withdrawal."
      ],
      "metadata": {
        "colab": {
          "base_uri": "https://localhost:8080/"
        },
        "id": "UYdokUVD84Qo",
        "outputId": "4a2cfe9b-3dc7-4950-c54d-4f018158228b"
      },
      "execution_count": 29,
      "outputs": [
        {
          "output_type": "stream",
          "name": "stdout",
          "text": [
            "Error: You do not have enough funds for this withdrawal.\n"
          ]
        }
      ]
    },
    {
      "cell_type": "markdown",
      "source": [
        "**Re-raising an Exception**\n",
        "\n",
        "You can catch an exception to perform some action (like logging), and then re-raise it to allow it to propagate up the call stack. This is done by using a plain raise statement inside an except block."
      ],
      "metadata": {
        "id": "gjNGz746-lAu"
      }
    },
    {
      "cell_type": "code",
      "source": [
        "def process_data(data):\n",
        "    try:\n",
        "        # Some operation that might fail\n",
        "        result = 10 / data\n",
        "    except ZeroDivisionError as e:\n",
        "        print(\"Caught a division by zero error, logging it.\")\n",
        "        # Re-raise the exception to be handled by a higher-level block\n",
        "        raise\n",
        "    return result\n",
        "\n",
        "try:\n",
        "    process_data(0)\n",
        "except ZeroDivisionError:\n",
        "    print(\"Handled the re-raised exception at the top level.\")\n",
        "# Output:\n",
        "# Caught a division by zero error, logging it.\n",
        "# Handled the re-raised exception at the top level."
      ],
      "metadata": {
        "colab": {
          "base_uri": "https://localhost:8080/"
        },
        "id": "ofudQ3Bl9KE6",
        "outputId": "d934e4f6-c52d-4c54-c66f-9781cd5cc0b5"
      },
      "execution_count": 30,
      "outputs": [
        {
          "output_type": "stream",
          "name": "stdout",
          "text": [
            "Caught a division by zero error, logging it.\n",
            "Handled the re-raised exception at the top level.\n"
          ]
        }
      ]
    },
    {
      "cell_type": "markdown",
      "source": [
        "**Question-25) Why is it important to use multithreading in certain applications?**\n",
        "\n",
        "**Answer-25)** Multithreading is important in certain applications for several key reasons, mainly focused on improving performance and enhancing user experience. It allows a program to execute multiple tasks concurrently, which is particularly beneficial for applications that need to handle multiple things at once.\n",
        "\n",
        "1. **Improved Responsiveness**\n",
        "\n",
        "One of the main reasons to use multithreading is to keep an application from freezing. In applications with a graphical user interface (GUI), a long-running or blocking task (like downloading a large file or performing a complex calculation) can cause the entire program to become unresponsive. By running this task on a separate thread, the main thread—which handles the user interface—remains free to respond to user input, such as clicks or keystrokes. This leads to a smoother and more fluid user experience.\n",
        "\n",
        "2. **Efficient Resource Utilization**\n",
        "\n",
        "Multithreading allows a program to make better use of available CPU cores. On modern multi-core processors, a single-threaded program can only use one core at a time, leaving the others idle. By dividing tasks into multiple threads, the program can run different threads on different cores simultaneously, which is known as parallelism. This maximizes CPU utilization and speeds up the completion of compute-intensive tasks.\n",
        "\n",
        "3. **Handling Concurrent Tasks**\n",
        "\n",
        "Many applications, like web servers, need to handle multiple requests at the same time. If a web server were single-threaded, it would have to process each user request one by one, making users wait. With multithreading, the server can create a new thread for each incoming request, allowing it to handle many clients concurrently without making them wait for previous requests to finish. This is crucial for applications that require a high degree of concurrency."
      ],
      "metadata": {
        "id": "H5yuoX6D-4bh"
      }
    },
    {
      "cell_type": "markdown",
      "source": [],
      "metadata": {
        "id": "Lr09-CGgAC_A"
      }
    },
    {
      "cell_type": "markdown",
      "source": [
        "#Practical Questions and Answers"
      ],
      "metadata": {
        "id": "3TqS8PVtAENL"
      }
    },
    {
      "cell_type": "code",
      "source": [
        "#Question-1) How can you open a file for writing in Python and write a string to it?\n",
        "\n",
        "#Answer-1)\n",
        "\n",
        "file_name = \"example.txt\"\n",
        "string_to_write = \"Hello, this is a test string to be written to a file.\"\n",
        "\n",
        "try:\n",
        "    with open(file_name, 'w') as file:\n",
        "        file.write(string_to_write)\n",
        "    print(f\"Successfully wrote the string to '{file_name}'.\")\n",
        "\n",
        "except IOError as e:\n",
        "    # This block handles potential errors, such as permission issues.\n",
        "    print(f\"An error occurred while writing to the file: {e}\")\n",
        "\n",
        "# You can now check your file system for a new file named \"example.txt\"\n",
        "# containing the text \"Hello, this is a test string to be written to a file.\""
      ],
      "metadata": {
        "colab": {
          "base_uri": "https://localhost:8080/"
        },
        "id": "NNDyJxaa9OHi",
        "outputId": "aadc7df4-1e62-4f99-8e9b-d7bd89bac935"
      },
      "execution_count": 37,
      "outputs": [
        {
          "output_type": "stream",
          "name": "stdout",
          "text": [
            "Successfully wrote the string to 'example.txt'.\n"
          ]
        }
      ]
    },
    {
      "cell_type": "code",
      "source": [
        "#Question-2) Write a Python program to read the contents of a file and print each line.\n",
        "\n",
        "#Answer-2)\n",
        "\n",
        "try:\n",
        "    with open(\"example_read.txt\", \"w\") as file_to_write:\n",
        "        file_to_write.write(\"This is the first line.\\n\")\n",
        "        file_to_write.write(\"This is the second line.\\n\")\n",
        "        file_to_write.write(\"And this is the final line.\")\n",
        "    print(\"Created 'example_read.txt' with sample content.\")\n",
        "except IOError as e:\n",
        "    print(f\"Error creating file: {e}\")\n",
        "\n",
        "print(\"-\" * 30)\n",
        "\n",
        "file_name = \"example_read.txt\"\n",
        "\n",
        "try:\n",
        "    print(f\"Reading content from '{file_name}':\")\n",
        "    with open(file_name, 'r') as file_to_read:\n",
        "        # A file object is an iterable, so we can loop directly over it.\n",
        "        # This is an efficient way to read large files line by line.\n",
        "        for line in file_to_read:\n",
        "            # The 'end=\"\"' argument in print() prevents an extra newline from being added,\n",
        "            # as each line read from the file already contains its own newline character.\n",
        "            print(line, end='')\n",
        "\n",
        "except FileNotFoundError:\n",
        "    print(f\"Error: The file '{file_name}' was not found.\")\n",
        "except IOError as e:\n",
        "    print(f\"An error occurred while reading the file: {e}\")"
      ],
      "metadata": {
        "colab": {
          "base_uri": "https://localhost:8080/"
        },
        "id": "PBnBRopxB7Ma",
        "outputId": "9eb6c86f-f0da-4588-a0d8-6dd0ab2989ae"
      },
      "execution_count": 40,
      "outputs": [
        {
          "output_type": "stream",
          "name": "stdout",
          "text": [
            "Created 'example_read.txt' with sample content.\n",
            "------------------------------\n",
            "Reading content from 'example_read.txt':\n",
            "This is the first line.\n",
            "This is the second line.\n",
            "And this is the final line."
          ]
        }
      ]
    },
    {
      "cell_type": "code",
      "source": [
        "#Question-3) How would you handle a case where the file doesn't exist while trying to open it for reading?\n",
        "\n",
        "#Answer-3)\n",
        "\n",
        "# The file we are trying to read from\n",
        "file_name = \"non_existent_file.txt\"\n",
        "\n",
        "print(f\"Attempting to read from '{file_name}'...\")\n",
        "\n",
        "try:\n",
        "    # The code inside this 'try' block will be executed.\n",
        "    # If a FileNotFoundError occurs here, the program will jump\n",
        "    # directly to the 'except' block below.\n",
        "    with open(file_name, 'r') as file_to_read:\n",
        "        for line in file_to_read:\n",
        "            print(line, end='')\n",
        "\n",
        "except FileNotFoundError:\n",
        "    # This block is executed only if a FileNotFoundError occurs in the 'try' block.\n",
        "    # It allows you to handle the error gracefully without the program crashing.\n",
        "    print(f\"\\nError: The file '{file_name}' was not found. Please check the file path.\")\n",
        "\n",
        "except IOError as e:\n",
        "\n",
        "    print(f\"\\nAn unexpected I/O error occurred: {e}\")\n",
        "\n",
        "finally:\n",
        "    # The code in the 'finally' block will always run,\n",
        "    # regardless of whether an exception occurred or not.\n",
        "    print(\"\\nFile operation attempt complete.\")"
      ],
      "metadata": {
        "colab": {
          "base_uri": "https://localhost:8080/"
        },
        "id": "IOft07EACmqx",
        "outputId": "75fc1743-1a2b-4460-d935-ad11df9a1c73"
      },
      "execution_count": 41,
      "outputs": [
        {
          "output_type": "stream",
          "name": "stdout",
          "text": [
            "Attempting to read from 'non_existent_file.txt'...\n",
            "\n",
            "Error: The file 'non_existent_file.txt' was not found. Please check the file path.\n",
            "\n",
            "File operation attempt complete.\n"
          ]
        }
      ]
    },
    {
      "cell_type": "code",
      "source": [
        "#Question-4) Write a Python script that reads from one file and writes its content to another file.\n",
        "\n",
        "#Answer-4)\n",
        "\n",
        "# First, let's set up the file names.\n",
        "source_file_name = \"source_file.txt\"\n",
        "destination_file_name = \"destination_file.txt\"\n",
        "\n",
        "#Step 1: Create a sample source file to work with ---\n",
        "try:\n",
        "    with open(source_file_name, 'w') as source_file:\n",
        "        source_file.write(\"This is the content from the source file.\\n\")\n",
        "        source_file.write(\"It contains multiple lines to demonstrate the copy operation.\\n\")\n",
        "        source_file.write(\"The destination file will have an exact copy of this text.\")\n",
        "    print(f\"Created a sample source file: '{source_file_name}'\")\n",
        "except IOError as e:\n",
        "    print(f\"Error creating source file: {e}\")\n",
        "    # We exit here if we can't create the source file\n",
        "    exit()\n",
        "\n",
        "print(\"-\" * 40)\n",
        "\n",
        "#Step 2: Read from the source file and write to the destination file ---\n",
        "try:\n",
        "    # Open the source file for reading ('r' mode)\n",
        "    with open(source_file_name, 'r') as source_file:\n",
        "        # Open the destination file for writing ('w' mode)\n",
        "        with open(destination_file_name, 'w') as destination_file:\n",
        "            # Read the entire content of the source file into a single string\n",
        "            content = source_file.read()\n",
        "\n",
        "            # Write the content to the destination file\n",
        "            destination_file.write(content)\n",
        "\n",
        "    print(f\"Successfully copied contents from '{source_file_name}' to '{destination_file_name}'.\")\n",
        "\n",
        "# Handle the case where the source file does not exist\n",
        "except FileNotFoundError:\n",
        "    print(f\"Error: The source file '{source_file_name}' was not found.\")\n",
        "# Handle other I/O errors (e.g., permissions issues)\n",
        "except IOError as e:\n",
        "    print(f\"An I/O error occurred during the copy operation: {e}\")"
      ],
      "metadata": {
        "colab": {
          "base_uri": "https://localhost:8080/"
        },
        "id": "Ooa5L0PCEmEp",
        "outputId": "890c9624-daf7-4313-9194-097d30b50b43"
      },
      "execution_count": 43,
      "outputs": [
        {
          "output_type": "stream",
          "name": "stdout",
          "text": [
            "Created a sample source file: 'source_file.txt'\n",
            "----------------------------------------\n",
            "Successfully copied contents from 'source_file.txt' to 'destination_file.txt'.\n"
          ]
        }
      ]
    },
    {
      "cell_type": "code",
      "source": [
        "#Question-5) How would you catch and handle division by zero error in Python?\n",
        "\n",
        "#Answer-5)\n",
        "\n",
        "def safe_divide(numerator, denominator):\n",
        "\n",
        "    try:\n",
        "        # Code that might raise an error goes in the 'try' block.\n",
        "        result = numerator / denominator\n",
        "\n",
        "    except ZeroDivisionError:\n",
        "        # This block runs ONLY if a ZeroDivisionError occurs.\n",
        "        print(\"Error: Cannot divide by zero!\")\n",
        "        result = None  # Assign a sensible default value\n",
        "    except TypeError:\n",
        "        # It's good practice to catch other potential errors, like dividing by a string.\n",
        "        print(\"Error: Please provide numbers for division.\")\n",
        "        result = None\n",
        "\n",
        "    else:\n",
        "        # The 'else' block runs ONLY if the 'try' block completes without any errors.\n",
        "        print(\"Division successful.\")\n",
        "\n",
        "    finally:\n",
        "        # The 'finally' block always runs, whether an error occurred or not.\n",
        "        # It's useful for cleanup code, like closing a file.\n",
        "        print(\"Execution of safe_divide function is complete.\")\n",
        "\n",
        "    return result\n",
        "\n",
        "print(\"Attempting division by 0 \")\n",
        "division_result_error = safe_divide(10, 0)\n",
        "print(f\"Result: {division_result_error}\\n\")"
      ],
      "metadata": {
        "colab": {
          "base_uri": "https://localhost:8080/"
        },
        "id": "qrgZ1YfLFXzk",
        "outputId": "e5b7629b-5e90-46ad-f808-2b40ddbb55ff"
      },
      "execution_count": 55,
      "outputs": [
        {
          "output_type": "stream",
          "name": "stdout",
          "text": [
            "Attempting division by 0 \n",
            "Error: Cannot divide by zero!\n",
            "Execution of safe_divide function is complete.\n",
            "Result: None\n",
            "\n"
          ]
        }
      ]
    },
    {
      "cell_type": "code",
      "source": [
        "#Question-6) Write a Python program that logs an error message to a log file when a division by zero exception occurs.\n",
        "\n",
        "#Answer-6)\n",
        "\n",
        "import logging\n",
        "\n",
        "# Configure the logging\n",
        "logging.basicConfig(\n",
        "    filename='error.log',        # Log file name\n",
        "    level=logging.ERROR,         # Log level\n",
        "    format='%(asctime)s - %(levelname)s - %(message)s'  # Log format\n",
        ")\n",
        "\n",
        "# Function to perform division\n",
        "def divide(a, b):\n",
        "    try:\n",
        "        result = a / b\n",
        "        print(\"Result:\", result)\n",
        "    except ZeroDivisionError as e:\n",
        "        logging.error(\"Attempted to divide by zero. Inputs: a=%d, b=%d\", a, b)\n",
        "        print(\"Error: Division by zero is not allowed.\")\n",
        "\n",
        "# Example usage\n",
        "divide(10, 0)\n",
        "\n"
      ],
      "metadata": {
        "colab": {
          "base_uri": "https://localhost:8080/"
        },
        "id": "4gT6_bF2J95n",
        "outputId": "46b368b7-7ea3-4047-bee7-fcc8e936fc09"
      },
      "execution_count": 56,
      "outputs": [
        {
          "output_type": "stream",
          "name": "stderr",
          "text": [
            "ERROR:root:Attempted to divide by zero. Inputs: a=10, b=0\n"
          ]
        },
        {
          "output_type": "stream",
          "name": "stdout",
          "text": [
            "Error: Division by zero is not allowed.\n"
          ]
        }
      ]
    },
    {
      "cell_type": "code",
      "source": [
        "#Question-7) How do you log information at different levels (INFO, ERROR, WARNING) in Python using the logging module?\n",
        "\n",
        "#Answer-7)\n",
        "\n",
        "import logging\n",
        "\n",
        "logging.basicConfig(level=logging.INFO, format='%(asctime)s - %(levelname)s - %(message)s')\n",
        "\n",
        "logging.info(\"This is an informational message. The application has started.\")\n",
        "\n",
        "# This message is at the WARNING level, which is above INFO.\n",
        "# It will also be printed.\n",
        "logging.warning(\"This is a warning message. Disk space is getting low.\")\n",
        "\n",
        "# This message is at the ERROR level, which is above INFO.\n",
        "# It will be printed.\n",
        "try:\n",
        "    result = 10 / 0\n",
        "except ZeroDivisionError:\n",
        "    logging.error(\"A critical error occurred: Division by zero!\", exc_info=True)\n",
        "\n",
        "# This message is at the DEBUG level, which is below INFO.\n",
        "# It will be ignored and will NOT be printed to the console.\n",
        "logging.debug(\"This is a debug message. It won't be displayed because the level is set to INFO.\")\n",
        "\n",
        "# This message is at the CRITICAL level, the highest severity.\n",
        "# It will be printed.\n",
        "logging.critical(\"This is a critical message. The system is shutting down.\")\n",
        "\n",
        "print(\"\\n(Note: The DEBUG message was not printed because the configured logging level is INFO.)\")"
      ],
      "metadata": {
        "colab": {
          "base_uri": "https://localhost:8080/"
        },
        "id": "e1K3rPCkLi_2",
        "outputId": "f4fbbf17-2145-4896-fcc1-c8e692c372a6"
      },
      "execution_count": 60,
      "outputs": [
        {
          "output_type": "stream",
          "name": "stderr",
          "text": [
            "WARNING:root:This is a warning message. Disk space is getting low.\n",
            "ERROR:root:A critical error occurred: Division by zero!\n",
            "Traceback (most recent call last):\n",
            "  File \"/tmp/ipython-input-3401237268.py\", line 18, in <cell line: 0>\n",
            "    result = 10 / 0\n",
            "             ~~~^~~\n",
            "ZeroDivisionError: division by zero\n",
            "CRITICAL:root:This is a critical message. The system is shutting down.\n"
          ]
        },
        {
          "output_type": "stream",
          "name": "stdout",
          "text": [
            "\n",
            "(Note: The DEBUG message was not printed because the configured logging level is INFO.)\n"
          ]
        }
      ]
    },
    {
      "cell_type": "code",
      "source": [
        "#Question-8) Write a program to handle a file opening error using exception handling.\n",
        "\n",
        "#Answer-8)\n",
        "\n",
        "try:\n",
        "    # Attempt to open a file that may not exist\n",
        "    file = open('non_existing_file.txt', 'r')\n",
        "    content = file.read()\n",
        "    print(content)\n",
        "    file.close()\n",
        "\n",
        "except FileNotFoundError:\n",
        "    print(\"Error: The file was not found.\")\n",
        "\n",
        "except PermissionError:\n",
        "    print(\"Error: You do not have permission to open this file.\")\n",
        "\n",
        "except Exception as e:\n",
        "    # Catch any other unexpected errors\n",
        "    print(f\"An unexpected error occurred: {e}\")"
      ],
      "metadata": {
        "colab": {
          "base_uri": "https://localhost:8080/"
        },
        "id": "qqC9qNX8MjnZ",
        "outputId": "9b519af9-726b-40d7-b259-05d549072269"
      },
      "execution_count": 64,
      "outputs": [
        {
          "output_type": "stream",
          "name": "stdout",
          "text": [
            "Error: The file was not found.\n"
          ]
        }
      ]
    },
    {
      "cell_type": "code",
      "source": [
        "#Question-9) How can you read a file line by line and store its content in a list in Python?\n",
        "\n",
        "#Answer-9)\n",
        "\n",
        "def read_file_to_list_iterative(file_path):\n",
        "\n",
        "    lines_list = []\n",
        "    try:\n",
        "        with open(file_path, 'r') as file:\n",
        "            for line in file:\n",
        "\n",
        "                lines_list.append(line.strip())\n",
        "        return lines_list\n",
        "    except FileNotFoundError:\n",
        "        print(f\"Error: The file '{file_path}' was not found.\")\n",
        "        return None\n",
        "    except IOError as e:\n",
        "        print(f\"An I/O error occurred: {e}\")\n",
        "        return None\n",
        "\n",
        "sample_file_name = \"sample_data.txt\"\n",
        "with open(sample_file_name, 'w') as f:\n",
        "    f.write(\"Line one\\n\")\n",
        "    f.write(\"  Line two with extra spaces \\n\")\n",
        "    f.write(\"Line three\")\n",
        "\n",
        "print(f\"Reading file using the iterative method...\")\n",
        "iterative_list = read_file_to_list_iterative(sample_file_name)\n",
        "if iterative_list:\n",
        "    print(\"Result:\", iterative_list)\n",
        "    print(\"Type:\", type(iterative_list))"
      ],
      "metadata": {
        "colab": {
          "base_uri": "https://localhost:8080/"
        },
        "id": "Q2aBflCMOKA-",
        "outputId": "efda4ce4-b840-4457-ea33-e428b86ac4c0"
      },
      "execution_count": 73,
      "outputs": [
        {
          "output_type": "stream",
          "name": "stdout",
          "text": [
            "Reading file using the iterative method...\n",
            "Result: ['Line one', 'Line two with extra spaces', 'Line three']\n",
            "Type: <class 'list'>\n"
          ]
        }
      ]
    },
    {
      "cell_type": "code",
      "source": [
        "#Question-10) How can you append data to an existing file in Python?\n",
        "\n",
        "#Answer-10)\n",
        "\n",
        "file_name = \"example.txt\"\n",
        "\n",
        "try:\n",
        "    with open(file_name, 'w') as file:\n",
        "        file.write(\"This is the original content.\\n\")\n",
        "    print(f\"Created initial file '{file_name}'.\")\n",
        "except IOError as e:\n",
        "    print(f\"Error creating file: {e}\")\n",
        "\n",
        "print(\"-\" * 30)\n",
        "\n",
        "try:\n",
        "    with open(file_name, 'a') as file:\n",
        "        file.write(\"This is the new content, appended at the end.\\n\")\n",
        "    print(f\"Successfully appended new data to '{file_name}'.\")\n",
        "\n",
        "except IOError as e:\n",
        "    print(f\"Error appending to file: {e}\")\n",
        "\n",
        "print(\"-\" * 30)\n",
        "\n",
        "try:\n",
        "    with open(file_name, 'r') as file:\n",
        "        final_content = file.read()\n",
        "        print(f\"Reading the final contents of '{file_name}':\\n\")\n",
        "        print(final_content)\n",
        "except FileNotFoundError:\n",
        "    print(f\"Error: The file '{file_name}' was not found.\")"
      ],
      "metadata": {
        "colab": {
          "base_uri": "https://localhost:8080/"
        },
        "id": "wo0beIw0OMdp",
        "outputId": "4d46f52a-ee06-4391-92a0-3330dc9cc4d3"
      },
      "execution_count": 82,
      "outputs": [
        {
          "output_type": "stream",
          "name": "stdout",
          "text": [
            "Created initial file 'example.txt'.\n",
            "------------------------------\n",
            "Successfully appended new data to 'example.txt'.\n",
            "------------------------------\n",
            "Reading the final contents of 'example.txt':\n",
            "\n",
            "This is the original content.\n",
            "This is the new content, appended at the end.\n",
            "\n"
          ]
        }
      ]
    },
    {
      "cell_type": "code",
      "source": [
        "#Question-11) Write a Python program that uses a try-except block to handle an error when attempting to access a dictionary key that doesn't exist.\n",
        "\n",
        "#Answer-11)\n",
        "\n",
        "# A simple dictionary\n",
        "person = {\n",
        "    \"name\": \"Alice\",\n",
        "    \"age\": 30\n",
        "}\n",
        "\n",
        "try:\n",
        "    print(\"Trying to access the 'name' key...\")\n",
        "    name = person[\"name\"]\n",
        "    print(f\"Name found: {name}\")\n",
        "\n",
        "except KeyError:\n",
        "    print(\"An error occurred: The key was not found.\")\n",
        "\n",
        "print(\"-\" * 20)\n",
        "\n",
        "try:\n",
        "    print(\"Trying to access the 'city' key...\")\n",
        "    city = person[\"city\"]\n",
        "    print(f\"City found: {city}\")\n",
        "\n",
        "except KeyError:\n",
        "    # This block executes when the KeyError is raised\n",
        "    print(\"An error occurred: The 'city' key was not found in the dictionary.\")\n",
        "    print(\"The program continues to run without crashing.\")"
      ],
      "metadata": {
        "colab": {
          "base_uri": "https://localhost:8080/"
        },
        "id": "gDHIwWbSS_o4",
        "outputId": "412b8707-db19-4a35-a75d-37ca8cd280fb"
      },
      "execution_count": 87,
      "outputs": [
        {
          "output_type": "stream",
          "name": "stdout",
          "text": [
            "Trying to access the 'name' key...\n",
            "Name found: Alice\n",
            "--------------------\n",
            "Trying to access the 'city' key...\n",
            "An error occurred: The 'city' key was not found in the dictionary.\n",
            "The program continues to run without crashing.\n"
          ]
        }
      ]
    },
    {
      "cell_type": "code",
      "source": [
        "#Question-12) Write a program that demonstrates using multiple except blocks to handle different types of exceptions.\n",
        "\n",
        "#Answer-12)\n",
        "\n",
        "def perform_division(numerator, denominator):\n",
        "\n",
        "    try:\n",
        "        #This code block will be monitored for exceptions.\n",
        "        result = numerator / denominator\n",
        "        print(f\"Result: {numerator} / {denominator} = {result}\")\n",
        "        return result\n",
        "\n",
        "    except ZeroDivisionError:\n",
        "        # This block catches the specific error for division by zero.\n",
        "        print(\"Error: Cannot divide by zero. Please provide a non-zero denominator.\")\n",
        "        return None\n",
        "\n",
        "    except TypeError:\n",
        "        # This block catches the specific error for invalid data types.\n",
        "        print(\"Error: Invalid data type. Please provide numbers for both numerator and denominator.\")\n",
        "        return None\n",
        "\n",
        "    except Exception as e:\n",
        "        # This is a general 'catch-all' block for any other unexpected exceptions.\n",
        "        print(f\"An unexpected error occurred: {e}\")\n",
        "        return None\n",
        "\n",
        "\n",
        "#Demonstration of the function with different scenarios\n",
        "\n",
        "print(\"--- Scenario 1: Successful division ---\")\n",
        "perform_division(10, 2)\n",
        "print(\"-\" * 30)\n",
        "\n",
        "print(\"\\n--- Scenario 2: Division by zero (handles ZeroDivisionError) ---\")\n",
        "perform_division(10, 0)\n",
        "print(\"-\" * 30)\n",
        "\n",
        "print(\"\\n--- Scenario 3: Invalid input (handles TypeError) ---\")\n",
        "perform_division(\"hello\", 5)\n",
        "print(\"-\" * 30)\n",
        "\n",
        "print(\"\\n--- Scenario 4: Another invalid input (handles TypeError) ---\")\n",
        "perform_division(10, \"world\")\n",
        "print(\"-\" * 30)"
      ],
      "metadata": {
        "colab": {
          "base_uri": "https://localhost:8080/"
        },
        "id": "-TVAOHexUNlp",
        "outputId": "c3c3c846-b636-4c38-e718-aa1c0aa2db99"
      },
      "execution_count": 91,
      "outputs": [
        {
          "output_type": "stream",
          "name": "stdout",
          "text": [
            "--- Scenario 1: Successful division ---\n",
            "Result: 10 / 2 = 5.0\n",
            "------------------------------\n",
            "\n",
            "--- Scenario 2: Division by zero (handles ZeroDivisionError) ---\n",
            "Error: Cannot divide by zero. Please provide a non-zero denominator.\n",
            "------------------------------\n",
            "\n",
            "--- Scenario 3: Invalid input (handles TypeError) ---\n",
            "Error: Invalid data type. Please provide numbers for both numerator and denominator.\n",
            "------------------------------\n",
            "\n",
            "--- Scenario 4: Another invalid input (handles TypeError) ---\n",
            "Error: Invalid data type. Please provide numbers for both numerator and denominator.\n",
            "------------------------------\n"
          ]
        }
      ]
    },
    {
      "cell_type": "code",
      "source": [
        "#Question-13) How would you check if a file exists before attempting to read it in Python?\n",
        "\n",
        "#Answer-13)\n",
        "\n",
        "import os\n",
        "existing_file = \"test.txt\"\n",
        "with open(existing_file, 'w') as f:\n",
        "    f.write(\"Hello, World!\")\n",
        "\n",
        "non_existent_file = \"not_here.txt\"\n",
        "\n",
        "if os.path.exists(existing_file):\n",
        "    print(f\"File '{existing_file}' exists. Reading its content:\")\n",
        "    with open(existing_file, 'r') as file:\n",
        "        print(file.read())\n",
        "else:\n",
        "    print(f\"Error: The file '{existing_file}' was not found.\")\n",
        "\n",
        "print(\"-\" * 30)\n",
        "\n",
        "if os.path.exists(non_existent_file):\n",
        "    print(f\"File '{non_existent_file}' exists. Reading its content:\")\n",
        "    with open(non_existent_file, 'r') as file:\n",
        "        print(file.read())\n",
        "else:\n",
        "    print(f\"Error: The file '{non_existent_file}' was not found.\")\n",
        "\n",
        "os.remove(existing_file)\n",
        "print(f\"\\nCleaned up by removing '{existing_file}'.\")"
      ],
      "metadata": {
        "colab": {
          "base_uri": "https://localhost:8080/"
        },
        "id": "_xEBm1x4ccYg",
        "outputId": "b2bf5262-159a-487b-eb17-2c15da081a29"
      },
      "execution_count": 97,
      "outputs": [
        {
          "output_type": "stream",
          "name": "stdout",
          "text": [
            "File 'test.txt' exists. Reading its content:\n",
            "Hello, World!\n",
            "------------------------------\n",
            "Error: The file 'not_here.txt' was not found.\n",
            "\n",
            "Cleaned up by removing 'test.txt'.\n"
          ]
        }
      ]
    },
    {
      "cell_type": "code",
      "source": [
        "#Question-14) Write a program that uses the logging module to log both informational and error messages.\n",
        "\n",
        "#Answer-14)\n",
        "\n",
        "import logging\n",
        "\n",
        "logging.basicConfig(\n",
        "    level=logging.INFO,\n",
        "    format='%(asctime)s - %(levelname)s - %(message)s'\n",
        ")\n",
        "\n",
        "def safe_divide(numerator, denominator):\n",
        "    \"\"\"\n",
        "    Performs division and logs the outcome.\n",
        "    \"\"\"\n",
        "    try:\n",
        "        # Log an informational message before the operation.\n",
        "        logging.info(f\"Attempting to divide {numerator} by {denominator}.\")\n",
        "\n",
        "        result = numerator / denominator\n",
        "\n",
        "        # Log a success message.\n",
        "        logging.info(f\"Division successful. Result: {result}\")\n",
        "\n",
        "    except ZeroDivisionError:\n",
        "        # Log an error message if the division fails.\n",
        "        logging.error(\"Error: Cannot divide by zero.\")\n",
        "\n",
        "# Demonstrate the logging in action\n",
        "\n",
        "# Case 1: A successful operation\n",
        "print(\"Running a successful division\")\n",
        "safe_divide(10, 2)\n",
        "print(\"-\" * 30)\n",
        "\n",
        "# Case 2: An operation that causes an error\n",
        "print(\"Running a division that will cause an error\")\n",
        "safe_divide(10, 0)"
      ],
      "metadata": {
        "colab": {
          "base_uri": "https://localhost:8080/"
        },
        "id": "f3gAp8hUeh3V",
        "outputId": "4da6f58b-e429-4c9f-bfbc-cf550912382c"
      },
      "execution_count": 103,
      "outputs": [
        {
          "output_type": "stream",
          "name": "stderr",
          "text": [
            "ERROR:root:Error: Cannot divide by zero.\n"
          ]
        },
        {
          "output_type": "stream",
          "name": "stdout",
          "text": [
            "Running a successful division\n",
            "------------------------------\n",
            "Running a division that will cause an error\n"
          ]
        }
      ]
    },
    {
      "cell_type": "code",
      "source": [
        "#Question-15) Write a Python program that prints the content of a file and handles the case when the file is empty.\n",
        "\n",
        "#Answer-15)\n",
        "\n",
        "import os\n",
        "\n",
        "#Step 1: Create sample files for demonstration\n",
        "file_with_content = \"with_content.txt\"\n",
        "empty_file = \"empty.txt\"\n",
        "\n",
        "# Create a file with some text\n",
        "with open(file_with_content, 'w') as f:\n",
        "    f.write(\"This file has some text inside.\")\n",
        "\n",
        "# Create an empty file\n",
        "with open(empty_file, 'w') as f:\n",
        "    pass\n",
        "\n",
        "#Step 2: Function to read a file and handle empty content\n",
        "def read_file_content(file_path):\n",
        "    \"\"\"\n",
        "    Reads a file and prints its content, or a message if it's empty.\n",
        "    \"\"\"\n",
        "    try:\n",
        "        with open(file_path, 'r') as file:\n",
        "            content = file.read()\n",
        "            if not content:\n",
        "                print(f\"The file '{file_path}' is empty.\")\n",
        "            else:\n",
        "                print(f\"Content of '{file_path}':\\n{content}\")\n",
        "    except FileNotFoundError:\n",
        "        print(f\"Error: The file '{file_path}' was not found.\")\n",
        "\n",
        "#Step 3: Run the function with both files\n",
        "read_file_content(file_with_content)\n",
        "print(\"-\" * 30)\n",
        "read_file_content(empty_file)\n",
        "\n",
        "#Step 4: Clean up the created file\n",
        "os.remove(file_with_content)\n",
        "os.remove(empty_file)"
      ],
      "metadata": {
        "colab": {
          "base_uri": "https://localhost:8080/"
        },
        "id": "u2JWbYYKgR7M",
        "outputId": "96d7f266-6318-40c6-b326-9de7cb1ca63e"
      },
      "execution_count": 108,
      "outputs": [
        {
          "output_type": "stream",
          "name": "stdout",
          "text": [
            "Content of 'with_content.txt':\n",
            "This file has some text inside.\n",
            "------------------------------\n",
            "The file 'empty.txt' is empty.\n"
          ]
        }
      ]
    },
    {
      "cell_type": "code",
      "source": [
        "#Question-16) Demonstrate how to use memory profiling to check the memory usage of a small program.\n",
        "\n",
        "#Answer-16)\n",
        "\n",
        "from memory_profiler import profile\n",
        "\n",
        "@profile\n",
        "def process_data():\n",
        "    # Simulate some memory usage\n",
        "    data = [i * 2 for i in range(100000)]\n",
        "    squared = [x ** 2 for x in data]\n",
        "    total = sum(squared)\n",
        "    print(\"Total sum:\", total)\n",
        "\n",
        "if __name__ == \"__main__\":\n",
        "    process_data()\n"
      ],
      "metadata": {
        "colab": {
          "base_uri": "https://localhost:8080/"
        },
        "id": "gVOnUQtvh62z",
        "outputId": "2e8e44b6-0e34-44d0-e726-9d61b3c9d3f5"
      },
      "execution_count": 129,
      "outputs": [
        {
          "output_type": "stream",
          "name": "stdout",
          "text": [
            "ERROR: Could not find file /tmp/ipython-input-1406339295.py\n",
            "Total sum: 1333313333400000\n"
          ]
        }
      ]
    },
    {
      "cell_type": "code",
      "source": [
        "#Question-17) Write a Python program to create and write a list of numbers to a file, one number per line.\n",
        "\n",
        "#Answer-17)\n",
        "\n",
        "def write_numbers_to_file(filename, numbers):\n",
        "    try:\n",
        "        with open(filename, 'w') as file:\n",
        "            for number in numbers:\n",
        "                file.write(str(number) + '\\n')\n",
        "        print(f\"Successfully wrote {len(numbers)} numbers to '{filename}'.\")\n",
        "    except IOError as e:\n",
        "        print(f\"An error occurred while writing to the file: {e}\")\n",
        "\n",
        "if __name__ == \"__main__\":\n",
        "    #Create a list of numbers\n",
        "    my_numbers = [10, 25.5, 30, 42.7, 50, 60, 75, 88.3]\n",
        "\n",
        "    #Define the filename\n",
        "    output_filename = \"numbers.txt\"\n",
        "\n",
        "    #Call the function to write the list to the file\n",
        "    write_numbers_to_file(output_filename, my_numbers)\n",
        "\n",
        "    #Optional: Verify the file content\n",
        "    print(\"\\nFile content:\")\n",
        "    with open(output_filename, 'r') as file:\n",
        "        print(file.read())"
      ],
      "metadata": {
        "colab": {
          "base_uri": "https://localhost:8080/"
        },
        "id": "6hApOHcH_dR8",
        "outputId": "0821447c-2118-4ea3-e4c6-b491af81f537"
      },
      "execution_count": 131,
      "outputs": [
        {
          "output_type": "stream",
          "name": "stdout",
          "text": [
            "Successfully wrote 8 numbers to 'numbers.txt'.\n",
            "\n",
            "File content:\n",
            "10\n",
            "25.5\n",
            "30\n",
            "42.7\n",
            "50\n",
            "60\n",
            "75\n",
            "88.3\n",
            "\n"
          ]
        }
      ]
    },
    {
      "cell_type": "code",
      "source": [
        "#Question-18) How would you implement a basic logging setup that logs to a file with rotation after 1kb?\n",
        "\n",
        "#Answer-18)\n",
        "\n",
        "import logging\n",
        "from logging.handlers import RotatingFileHandler\n",
        "import os\n",
        "\n",
        "def setup_rotating_logger(log_filename, max_bytes=1024, backup_count=3):\n",
        "\n",
        "    # Create a logger instance\n",
        "    logger = logging.getLogger(__name__)\n",
        "    logger.setLevel(logging.INFO)\n",
        "\n",
        "    # Get the current working directory to create the full log file path\n",
        "    log_path = os.path.join(os.getcwd(), log_filename)\n",
        "\n",
        "    # Create the RotatingFileHandler\n",
        "    # maxBytes: The size in bytes at which the file will be rotated (1KB)\n",
        "    # backupCount: The number of historical log files to keep\n",
        "    handler = RotatingFileHandler(\n",
        "        log_path,\n",
        "        maxBytes=max_bytes,\n",
        "        backupCount=backup_count\n",
        "    )\n",
        "\n",
        "    # Define the format for log messages\n",
        "    formatter = logging.Formatter('%(asctime)s - %(levelname)s - %(message)s')\n",
        "\n",
        "    # Set the formatter for the handler\n",
        "    handler.setFormatter(formatter)\n",
        "\n",
        "    # Add the handler to the logger\n",
        "    logger.addHandler(handler)\n",
        "\n",
        "    return logger\n",
        "\n",
        "if __name__ == \"__main__\":\n",
        "    # Setup the logger with a 1KB rotation size and 3 backup files\n",
        "    logger = setup_rotating_logger(\"app.log\")\n",
        "\n",
        "    print(\"Logger configured. Writing messages to 'app.log' to demonstrate file rotation.\")\n",
        "\n",
        "    # Write a number of log messages to ensure the file size exceeds the 1KB limit\n",
        "    # and triggers a rotation. Each message is well over 10 bytes.\n",
        "    for i in range(100):\n",
        "        logger.info(f\"This is log message number {i}. This message is designed to be a little verbose.\")\n",
        "\n",
        "    print(\"\\nLog messages finished. Check your current directory for 'app.log' and the rotated files, such as 'app.log.1', 'app.log.2', etc.\")"
      ],
      "metadata": {
        "colab": {
          "base_uri": "https://localhost:8080/"
        },
        "id": "EXhCMHqmAAGg",
        "outputId": "97b53117-bc51-44fc-9715-36548c6ed18c"
      },
      "execution_count": 2,
      "outputs": [
        {
          "output_type": "stream",
          "name": "stderr",
          "text": [
            "INFO:__main__:This is log message number 0. This message is designed to be a little verbose.\n",
            "INFO:__main__:This is log message number 1. This message is designed to be a little verbose.\n",
            "INFO:__main__:This is log message number 2. This message is designed to be a little verbose.\n",
            "INFO:__main__:This is log message number 3. This message is designed to be a little verbose.\n",
            "INFO:__main__:This is log message number 4. This message is designed to be a little verbose.\n",
            "INFO:__main__:This is log message number 5. This message is designed to be a little verbose.\n",
            "INFO:__main__:This is log message number 6. This message is designed to be a little verbose.\n",
            "INFO:__main__:This is log message number 7. This message is designed to be a little verbose.\n",
            "INFO:__main__:This is log message number 8. This message is designed to be a little verbose.\n",
            "INFO:__main__:This is log message number 9. This message is designed to be a little verbose.\n",
            "INFO:__main__:This is log message number 10. This message is designed to be a little verbose.\n",
            "INFO:__main__:This is log message number 11. This message is designed to be a little verbose.\n",
            "INFO:__main__:This is log message number 12. This message is designed to be a little verbose.\n",
            "INFO:__main__:This is log message number 13. This message is designed to be a little verbose.\n",
            "INFO:__main__:This is log message number 14. This message is designed to be a little verbose.\n",
            "INFO:__main__:This is log message number 15. This message is designed to be a little verbose.\n",
            "INFO:__main__:This is log message number 16. This message is designed to be a little verbose.\n",
            "INFO:__main__:This is log message number 17. This message is designed to be a little verbose.\n",
            "INFO:__main__:This is log message number 18. This message is designed to be a little verbose.\n",
            "INFO:__main__:This is log message number 19. This message is designed to be a little verbose.\n",
            "INFO:__main__:This is log message number 20. This message is designed to be a little verbose.\n",
            "INFO:__main__:This is log message number 21. This message is designed to be a little verbose.\n",
            "INFO:__main__:This is log message number 22. This message is designed to be a little verbose.\n",
            "INFO:__main__:This is log message number 23. This message is designed to be a little verbose.\n",
            "INFO:__main__:This is log message number 24. This message is designed to be a little verbose.\n",
            "INFO:__main__:This is log message number 25. This message is designed to be a little verbose.\n",
            "INFO:__main__:This is log message number 26. This message is designed to be a little verbose.\n",
            "INFO:__main__:This is log message number 27. This message is designed to be a little verbose.\n",
            "INFO:__main__:This is log message number 28. This message is designed to be a little verbose.\n",
            "INFO:__main__:This is log message number 29. This message is designed to be a little verbose.\n",
            "INFO:__main__:This is log message number 30. This message is designed to be a little verbose.\n",
            "INFO:__main__:This is log message number 31. This message is designed to be a little verbose.\n",
            "INFO:__main__:This is log message number 32. This message is designed to be a little verbose.\n",
            "INFO:__main__:This is log message number 33. This message is designed to be a little verbose.\n",
            "INFO:__main__:This is log message number 34. This message is designed to be a little verbose.\n",
            "INFO:__main__:This is log message number 35. This message is designed to be a little verbose.\n",
            "INFO:__main__:This is log message number 36. This message is designed to be a little verbose.\n",
            "INFO:__main__:This is log message number 37. This message is designed to be a little verbose.\n",
            "INFO:__main__:This is log message number 38. This message is designed to be a little verbose.\n",
            "INFO:__main__:This is log message number 39. This message is designed to be a little verbose.\n",
            "INFO:__main__:This is log message number 40. This message is designed to be a little verbose.\n",
            "INFO:__main__:This is log message number 41. This message is designed to be a little verbose.\n",
            "INFO:__main__:This is log message number 42. This message is designed to be a little verbose.\n",
            "INFO:__main__:This is log message number 43. This message is designed to be a little verbose.\n",
            "INFO:__main__:This is log message number 44. This message is designed to be a little verbose.\n",
            "INFO:__main__:This is log message number 45. This message is designed to be a little verbose.\n",
            "INFO:__main__:This is log message number 46. This message is designed to be a little verbose.\n",
            "INFO:__main__:This is log message number 47. This message is designed to be a little verbose.\n",
            "INFO:__main__:This is log message number 48. This message is designed to be a little verbose.\n",
            "INFO:__main__:This is log message number 49. This message is designed to be a little verbose.\n",
            "INFO:__main__:This is log message number 50. This message is designed to be a little verbose.\n",
            "INFO:__main__:This is log message number 51. This message is designed to be a little verbose.\n",
            "INFO:__main__:This is log message number 52. This message is designed to be a little verbose.\n",
            "INFO:__main__:This is log message number 53. This message is designed to be a little verbose.\n",
            "INFO:__main__:This is log message number 54. This message is designed to be a little verbose.\n",
            "INFO:__main__:This is log message number 55. This message is designed to be a little verbose.\n",
            "INFO:__main__:This is log message number 56. This message is designed to be a little verbose.\n",
            "INFO:__main__:This is log message number 57. This message is designed to be a little verbose.\n",
            "INFO:__main__:This is log message number 58. This message is designed to be a little verbose.\n",
            "INFO:__main__:This is log message number 59. This message is designed to be a little verbose.\n",
            "INFO:__main__:This is log message number 60. This message is designed to be a little verbose.\n",
            "INFO:__main__:This is log message number 61. This message is designed to be a little verbose.\n",
            "INFO:__main__:This is log message number 62. This message is designed to be a little verbose.\n",
            "INFO:__main__:This is log message number 63. This message is designed to be a little verbose.\n",
            "INFO:__main__:This is log message number 64. This message is designed to be a little verbose.\n",
            "INFO:__main__:This is log message number 65. This message is designed to be a little verbose.\n",
            "INFO:__main__:This is log message number 66. This message is designed to be a little verbose.\n",
            "INFO:__main__:This is log message number 67. This message is designed to be a little verbose.\n",
            "INFO:__main__:This is log message number 68. This message is designed to be a little verbose.\n",
            "INFO:__main__:This is log message number 69. This message is designed to be a little verbose.\n",
            "INFO:__main__:This is log message number 70. This message is designed to be a little verbose.\n",
            "INFO:__main__:This is log message number 71. This message is designed to be a little verbose.\n",
            "INFO:__main__:This is log message number 72. This message is designed to be a little verbose.\n",
            "INFO:__main__:This is log message number 73. This message is designed to be a little verbose.\n",
            "INFO:__main__:This is log message number 74. This message is designed to be a little verbose.\n",
            "INFO:__main__:This is log message number 75. This message is designed to be a little verbose.\n",
            "INFO:__main__:This is log message number 76. This message is designed to be a little verbose.\n",
            "INFO:__main__:This is log message number 77. This message is designed to be a little verbose.\n",
            "INFO:__main__:This is log message number 78. This message is designed to be a little verbose.\n",
            "INFO:__main__:This is log message number 79. This message is designed to be a little verbose.\n",
            "INFO:__main__:This is log message number 80. This message is designed to be a little verbose.\n",
            "INFO:__main__:This is log message number 81. This message is designed to be a little verbose.\n",
            "INFO:__main__:This is log message number 82. This message is designed to be a little verbose.\n",
            "INFO:__main__:This is log message number 83. This message is designed to be a little verbose.\n",
            "INFO:__main__:This is log message number 84. This message is designed to be a little verbose.\n",
            "INFO:__main__:This is log message number 85. This message is designed to be a little verbose.\n",
            "INFO:__main__:This is log message number 86. This message is designed to be a little verbose.\n",
            "INFO:__main__:This is log message number 87. This message is designed to be a little verbose.\n",
            "INFO:__main__:This is log message number 88. This message is designed to be a little verbose.\n",
            "INFO:__main__:This is log message number 89. This message is designed to be a little verbose.\n",
            "INFO:__main__:This is log message number 90. This message is designed to be a little verbose.\n",
            "INFO:__main__:This is log message number 91. This message is designed to be a little verbose.\n",
            "INFO:__main__:This is log message number 92. This message is designed to be a little verbose.\n",
            "INFO:__main__:This is log message number 93. This message is designed to be a little verbose.\n",
            "INFO:__main__:This is log message number 94. This message is designed to be a little verbose.\n",
            "INFO:__main__:This is log message number 95. This message is designed to be a little verbose.\n",
            "INFO:__main__:This is log message number 96. This message is designed to be a little verbose.\n",
            "INFO:__main__:This is log message number 97. This message is designed to be a little verbose.\n",
            "INFO:__main__:This is log message number 98. This message is designed to be a little verbose.\n",
            "INFO:__main__:This is log message number 99. This message is designed to be a little verbose.\n"
          ]
        },
        {
          "output_type": "stream",
          "name": "stdout",
          "text": [
            "Logger configured. Writing messages to 'app.log' to demonstrate file rotation.\n",
            "\n",
            "Log messages finished. Check your current directory for 'app.log' and the rotated files, such as 'app.log.1', 'app.log.2', etc.\n"
          ]
        }
      ]
    },
    {
      "cell_type": "code",
      "source": [
        "#Question-19) Write a program that handles both IndexError and KeyError using a try-except block\n",
        "\n",
        "#ANswer-19)\n",
        "\n",
        "def access_data(data_list, data_dict, list_index, dict_key):\n",
        "\n",
        "    try:\n",
        "        # Attempt to access the list element and dictionary key\n",
        "        list_value = data_list[list_index]\n",
        "        dict_value = data_dict[dict_key]\n",
        "\n",
        "        print(f\"Successfully accessed data!\")\n",
        "        print(f\"List value at index {list_index}: {list_value}\")\n",
        "        print(f\"Dictionary value for key '{dict_key}': {dict_value}\")\n",
        "\n",
        "    except IndexError:\n",
        "        # This block runs if the list_index is out of range\n",
        "        print(f\"Error: An IndexError occurred! The list index {list_index} is out of range.\")\n",
        "\n",
        "    except KeyError:\n",
        "        # This block runs if the dict_key is not found\n",
        "        print(f\"Error: A KeyError occurred! The key '{dict_key}' was not found in the dictionary.\")\n",
        "\n",
        "    except Exception as e:\n",
        "        # A generic block to catch any other unexpected errors\n",
        "        print(f\"An unexpected error occurred: {e}\")\n",
        "\n",
        "#Example Usage\n",
        "\n",
        "# Data to work with\n",
        "my_list = ['apple', 'banana', 'cherry']\n",
        "my_dict = {'fruit': 'apple', 'color': 'red'}\n",
        "\n",
        "print(\"--- Scenario 1: All access is successful ---\")\n",
        "access_data(my_list, my_dict, 1, 'fruit')\n",
        "print(\"-\" * 40)\n",
        "\n",
        "print(\"--- Scenario 2: IndexError occurs ---\")\n",
        "access_data(my_list, my_dict, 5, 'fruit')\n",
        "print(\"-\" * 40)\n",
        "\n",
        "print(\"--- Scenario 3: KeyError occurs ---\")\n",
        "access_data(my_list, my_dict, 1, 'price')\n",
        "print(\"-\" * 40)\n",
        "\n",
        "print(\"--- Scenario 4: Multiple errors, but only the first is caught ---\")\n",
        "access_data(my_list, my_dict, 5, 'price')\n",
        "print(\"-\" * 40)"
      ],
      "metadata": {
        "colab": {
          "base_uri": "https://localhost:8080/"
        },
        "id": "T7CcUU1cAsO8",
        "outputId": "1606b30f-e0aa-4895-c727-39adabf0640c"
      },
      "execution_count": 3,
      "outputs": [
        {
          "output_type": "stream",
          "name": "stdout",
          "text": [
            "--- Scenario 1: All access is successful ---\n",
            "Successfully accessed data!\n",
            "List value at index 1: banana\n",
            "Dictionary value for key 'fruit': apple\n",
            "----------------------------------------\n",
            "--- Scenario 2: IndexError occurs ---\n",
            "Error: An IndexError occurred! The list index 5 is out of range.\n",
            "----------------------------------------\n",
            "--- Scenario 3: KeyError occurs ---\n",
            "Error: A KeyError occurred! The key 'price' was not found in the dictionary.\n",
            "----------------------------------------\n",
            "--- Scenario 4: Multiple errors, but only the first is caught ---\n",
            "Error: An IndexError occurred! The list index 5 is out of range.\n",
            "----------------------------------------\n"
          ]
        }
      ]
    },
    {
      "cell_type": "code",
      "source": [
        "#Question-20) How would you open a file and read its contents using a context manager in Python?\n",
        "\n",
        "#Answer-20)\n",
        "\n",
        "import os\n",
        "\n",
        "def read_file_with_context_manager(filename):\n",
        "\n",
        "    # Use a try-except block to handle the case where the file doesn't exist\n",
        "    try:\n",
        "        # 'with' statement opens the file and assigns the file object to 'file'\n",
        "        with open(filename, 'r') as file:\n",
        "            # The file is open and ready for reading inside this block\n",
        "            contents = file.read()\n",
        "            print(f\"Contents of '{filename}':\\n\")\n",
        "            print(contents)\n",
        "\n",
        "        # The file is automatically closed here, even if an error occurred\n",
        "        print(\"\\nFile was successfully read and closed.\")\n",
        "\n",
        "    except FileNotFoundError:\n",
        "        print(f\"Error: The file '{filename}' was not found.\")\n",
        "\n",
        "if __name__ == \"__main__\":\n",
        "    # First, let's create a sample file to work with.\n",
        "    sample_filename = \"sample.txt\"\n",
        "    with open(sample_filename, 'w') as f:\n",
        "        f.write(\"Hello, Python!\\n\")\n",
        "        f.write(\"This is a simple text file.\\n\")\n",
        "        f.write(\"Using a context manager is a best practice.\")\n",
        "\n",
        "    # Now, call the function to read the file\n",
        "    read_file_with_context_manager(sample_filename)\n",
        "\n",
        "    # Optional: Clean up the created file\n",
        "    os.remove(sample_filename)"
      ],
      "metadata": {
        "colab": {
          "base_uri": "https://localhost:8080/"
        },
        "id": "hzb8yDeVDJ1o",
        "outputId": "98ae780c-bb4b-479f-f69c-71c80f637846"
      },
      "execution_count": 4,
      "outputs": [
        {
          "output_type": "stream",
          "name": "stdout",
          "text": [
            "Contents of 'sample.txt':\n",
            "\n",
            "Hello, Python!\n",
            "This is a simple text file.\n",
            "Using a context manager is a best practice.\n",
            "\n",
            "File was successfully read and closed.\n"
          ]
        }
      ]
    },
    {
      "cell_type": "code",
      "source": [
        "#Question-21) Write a Python program that reads a file and prints the number of occurrences of a specific word.\n",
        "\n",
        "#Answer-21)\n",
        "\n",
        "import os\n",
        "\n",
        "def count_word_in_file(filename, word_to_find):\n",
        "\n",
        "    try:\n",
        "        with open(filename, 'r') as file:\n",
        "            # Read the entire file content\n",
        "            content = file.read()\n",
        "\n",
        "            # Convert content and the target word to lowercase for case-insensitive counting\n",
        "            content_lower = content.lower()\n",
        "            word_to_find_lower = word_to_find.lower()\n",
        "\n",
        "            # Split the content into a list of words and count the occurrences\n",
        "            # We'll use a simple split for this example.\n",
        "            words = content_lower.split()\n",
        "            count = words.count(word_to_find_lower)\n",
        "\n",
        "            return count\n",
        "\n",
        "    except FileNotFoundError:\n",
        "        print(f\"Error: The file '{filename}' was not found.\")\n",
        "        return None\n",
        "\n",
        "if __name__ == \"__main__\":\n",
        "    # Create a sample file for demonstration\n",
        "    sample_filename = \"sample_text.txt\"\n",
        "    sample_text = \"\"\"\n",
        "    This is a sample text file.\n",
        "    It contains multiple lines to demonstrate the functionality.\n",
        "    We will count the word 'the'.\n",
        "    THE quick brown fox jumps over the lazy dog.\n",
        "    This demonstrates that 'The' and 'the' are counted together.\n",
        "    \"\"\"\n",
        "\n",
        "    # Write the sample text to the file\n",
        "    with open(sample_filename, 'w') as f:\n",
        "        f.write(sample_text)\n",
        "\n",
        "    # Define the word to find\n",
        "    target_word = \"the\"\n",
        "\n",
        "    # Call the function and print the result\n",
        "    word_count = count_word_in_file(sample_filename, target_word)\n",
        "\n",
        "    if word_count is not None:\n",
        "        print(f\"The word '{target_word}' appears {word_count} times in the file.\")\n",
        "\n",
        "    # Clean up the created file\n",
        "    os.remove(sample_filename)"
      ],
      "metadata": {
        "colab": {
          "base_uri": "https://localhost:8080/"
        },
        "id": "zhPK0A5ND444",
        "outputId": "8ce95ebd-0f1c-4de7-9126-18354017e925"
      },
      "execution_count": 6,
      "outputs": [
        {
          "output_type": "stream",
          "name": "stdout",
          "text": [
            "The word 'the' appears 4 times in the file.\n"
          ]
        }
      ]
    },
    {
      "cell_type": "code",
      "source": [
        "#Question-22) How can you check if a file is empty before attempting to read its contents?\n",
        "\n",
        "#Answer-22)\n",
        "\n",
        "import os\n",
        "\n",
        "def is_file_empty_via_open(file_path):\n",
        "    try:\n",
        "        with open(file_path, 'r') as file:\n",
        "            # Move the file pointer to the end of the file\n",
        "            file.seek(0, os.SEEK_END)\n",
        "            # Get the current position of the pointer (which is the file size)\n",
        "            size = file.tell()\n",
        "            # Return True if the size is 0, otherwise False\n",
        "            return size == 0\n",
        "    except FileNotFoundError:\n",
        "        print(f\"Error: The file '{file_path}' was not found.\")\n",
        "        return False\n",
        "\n",
        "if __name__ == \"__main__\":\n",
        "    # Example 1: Check a non-empty file\n",
        "    with open(\"data.txt\", \"w\") as f:\n",
        "        f.write(\"Some content\")\n",
        "    print(f\"'data.txt' is empty (via open): {is_file_empty_via_open('data.txt')}\")\n",
        "\n",
        "    # Example 2: Check an empty file\n",
        "    with open(\"empty.txt\", \"w\") as f:\n",
        "        pass\n",
        "    print(f\"'empty.txt' is empty (via open): {is_file_empty_via_open('empty.txt')}\")\n",
        "\n",
        "    # Clean up\n",
        "    os.remove(\"data.txt\")\n",
        "    os.remove(\"empty.txt\")"
      ],
      "metadata": {
        "colab": {
          "base_uri": "https://localhost:8080/"
        },
        "id": "5JNnwX8yE-xc",
        "outputId": "07492fc9-66e6-4a64-d01d-acf6233c76aa"
      },
      "execution_count": 7,
      "outputs": [
        {
          "output_type": "stream",
          "name": "stdout",
          "text": [
            "'data.txt' is empty (via open): False\n",
            "'empty.txt' is empty (via open): True\n"
          ]
        }
      ]
    },
    {
      "cell_type": "code",
      "source": [
        "#Question-23) Write a Python program that writes to a log file when an error occurs during file handling.\n",
        "\n",
        "#Answer-23)\n",
        "\n",
        "import logging\n",
        "\n",
        "logging.basicConfig(filename='app.log', level=logging.ERROR)\n",
        "\n",
        "try:\n",
        "    # This line will try to open a file that does not exist,\n",
        "    # which will raise a FileNotFoundError.\n",
        "    with open('non_existent_file.txt', 'r') as file:\n",
        "        content = file.read()\n",
        "        print(content)\n",
        "except FileNotFoundError:\n",
        "    # This block runs when the FileNotFoundError occurs.\n",
        "    # The logging.error() call writes the message to the 'app.log' file.\n",
        "    logging.error(\"Failed to open 'non_existent_file.txt'. The file was not found.\")\n",
        "\n",
        "print(\"Program finished. Check 'app.log' for the error message.\")"
      ],
      "metadata": {
        "colab": {
          "base_uri": "https://localhost:8080/"
        },
        "id": "si3tjoASGmOD",
        "outputId": "0fad8be0-1adb-4e97-e33f-a07d7d7365fb"
      },
      "execution_count": 15,
      "outputs": [
        {
          "output_type": "stream",
          "name": "stderr",
          "text": [
            "ERROR:root:Failed to open 'non_existent_file.txt'. The file was not found.\n"
          ]
        },
        {
          "output_type": "stream",
          "name": "stdout",
          "text": [
            "Program finished. Check 'app.log' for the error message.\n"
          ]
        }
      ]
    },
    {
      "cell_type": "code",
      "source": [],
      "metadata": {
        "id": "p2BCws75H5lP"
      },
      "execution_count": null,
      "outputs": []
    }
  ]
}